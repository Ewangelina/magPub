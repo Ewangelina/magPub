{
 "cells": [
  {
   "cell_type": "code",
   "execution_count": 1,
   "id": "e23a5603-b56e-475c-8d5d-9ddb41aacff2",
   "metadata": {},
   "outputs": [],
   "source": [
    "import sklearn\n",
    "from kan import *\n",
    "import matplotlib.pyplot as plt\n",
    "import numpy as np\n",
    "from collections import Counter\n",
    "from sklearn.datasets import load_breast_cancer, load_wine, load_iris\n",
    "\n",
    "PATIENCE_VALUE = 3\n",
    "TOLERANCE_AMOUNT = 0\n",
    "\n",
    "device = torch.device('cuda' if torch.cuda.is_available() else 'cpu')\n",
    "#device = torch.device('cpu')\n",
    "dtype = torch.get_default_dtype()\n",
    "result_type = torch.long\n",
    "\n",
    "def processDataset(data): #sklearn.datasets data\n",
    "    y = data.target\n",
    "    X = data.data\n",
    "    X = sklearn.preprocessing.normalize(X)\n",
    "    X_train, X_test, y_train, y_test = sklearn.model_selection.train_test_split(X, y, test_size=0.25) #random_state=7\n",
    "    X_train, X_val, y_train, y_val = sklearn.model_selection.train_test_split(X_train, y_train, test_size=0.33)\n",
    "    dataset = {}\n",
    "    dataset['train_input'] = torch.from_numpy(np.array(X_train)).type(dtype).to(device)\n",
    "    dataset['test_input'] = torch.from_numpy(np.array(X_val)).type(dtype).to(device)\n",
    "    dataset['train_label'] = torch.from_numpy(np.array(y_train)).type(result_type).to(device)\n",
    "    dataset['test_label'] = torch.from_numpy(np.array(y_val)).type(result_type).to(device)\n",
    "    test = {}\n",
    "    test['test_input'] = torch.from_numpy(np.array(X_test)).type(dtype).to(device)\n",
    "    test['test_label'] = torch.from_numpy(np.array(y_test)).type(result_type).to(device)\n",
    "    return dataset, test\n",
    "\n",
    "def trainKAN(dataset, steps, KAN_width, KAN_grid, KAN_degree, KAN_lambda, last_best_acc=0, model=None):\n",
    "    def train_acc():\n",
    "        return torch.mean((torch.argmax(model(dataset['train_input']), dim=1) == dataset['train_label']).type(dtype))\n",
    "\n",
    "    def test_acc():\n",
    "        return torch.mean((torch.argmax(model(dataset['test_input']), dim=1) == dataset['test_label']).type(dtype))\n",
    "\n",
    "    if model is None:\n",
    "        model = KAN(width=KAN_width, grid=KAN_grid, k=KAN_degree, device=device, sparse_init=False)\n",
    "\n",
    "    final_results = {}\n",
    "    final_results['train_acc'] = []\n",
    "    final_results['test_acc'] = []\n",
    "    best_test_acc = last_best_acc\n",
    "    patience = PATIENCE_VALUE\n",
    "    for i in range(steps):\n",
    "        fit_results = model.fit(dataset, opt='LBFGS', steps=1, lamb=KAN_lambda, metrics=(train_acc, test_acc), loss_fn=torch.nn.CrossEntropyLoss())\n",
    "        final_results['train_acc'].append(fit_results['train_acc'][0])\n",
    "        final_results['test_acc'].append(fit_results['test_acc'][0])\n",
    "        if fit_results['test_acc'][0] < best_test_acc + TOLERANCE_AMOUNT:\n",
    "            if patience == 0:\n",
    "                return model, final_results, best_test_acc\n",
    "            else:\n",
    "                patience -= 1\n",
    "        else:\n",
    "            patience = PATIENCE_VALUE\n",
    "            best_test_acc = fit_results['test_acc'][0]\n",
    "            print(\"best_test_acc: \", best_test_acc)\n",
    "\n",
    "    return model, final_results, best_test_acc\n",
    "\n",
    "data = load_iris()\n",
    "dataset, test = processDataset(data)\n"
   ]
  },
  {
   "cell_type": "code",
   "execution_count": 2,
   "id": "685093c2-1ffa-4ea7-be88-29649e466057",
   "metadata": {},
   "outputs": [
    {
     "name": "stdout",
     "output_type": "stream",
     "text": [
      "checkpoint directory created: ./model\n",
      "saving model version 0.0\n"
     ]
    },
    {
     "name": "stderr",
     "output_type": "stream",
     "text": [
      "| train_loss: 1.39e-02 | test_loss: 7.37e-01 | reg: 1.31e+02 | : 100%|█| 1/1 [00:02<00:00,  2.09s/it\n"
     ]
    },
    {
     "name": "stdout",
     "output_type": "stream",
     "text": [
      "saving model version 0.1\n",
      "best_test_acc:  0.8918918967247009\n"
     ]
    },
    {
     "name": "stderr",
     "output_type": "stream",
     "text": [
      "| train_loss: 6.70e-03 | test_loss: 5.69e-01 | reg: 1.45e+02 | : 100%|█| 1/1 [00:00<00:00,  1.76it/s\n"
     ]
    },
    {
     "name": "stdout",
     "output_type": "stream",
     "text": [
      "saving model version 0.2\n",
      "best_test_acc:  0.9729729890823364\n"
     ]
    },
    {
     "name": "stderr",
     "output_type": "stream",
     "text": [
      "| train_loss: 4.90e-04 | test_loss: 8.33e-01 | reg: 1.85e+02 | : 100%|█| 1/1 [00:00<00:00,  1.77it/s\n"
     ]
    },
    {
     "name": "stdout",
     "output_type": "stream",
     "text": [
      "saving model version 0.3\n"
     ]
    },
    {
     "name": "stderr",
     "output_type": "stream",
     "text": [
      "| train_loss: 2.32e-04 | test_loss: 7.84e-01 | reg: 1.81e+02 | : 100%|█| 1/1 [00:00<00:00,  1.09it/s\n"
     ]
    },
    {
     "name": "stdout",
     "output_type": "stream",
     "text": [
      "saving model version 0.4\n"
     ]
    },
    {
     "name": "stderr",
     "output_type": "stream",
     "text": [
      "| train_loss: 3.04e-04 | test_loss: 7.28e-01 | reg: 1.84e+02 | : 100%|█| 1/1 [00:00<00:00,  1.66it/s\n"
     ]
    },
    {
     "name": "stdout",
     "output_type": "stream",
     "text": [
      "saving model version 0.5\n"
     ]
    },
    {
     "name": "stderr",
     "output_type": "stream",
     "text": [
      "| train_loss: 3.16e-04 | test_loss: 7.15e-01 | reg: 1.83e+02 | : 100%|█| 1/1 [00:00<00:00,  5.21it/s"
     ]
    },
    {
     "name": "stdout",
     "output_type": "stream",
     "text": [
      "saving model version 0.6\n"
     ]
    },
    {
     "name": "stderr",
     "output_type": "stream",
     "text": [
      "\n"
     ]
    }
   ],
   "source": [
    "in_dim = len(data.feature_names)\n",
    "out_dim = len(data.target_names)\n",
    "\n",
    "model, results, best_test_acc = trainKAN(dataset, steps=30, KAN_width=[in_dim,3,out_dim], KAN_grid=5, KAN_degree=3, KAN_lambda=0.000000001)\n",
    "\n",
    "#model, results, best_test_acc = trainKAN(dataset, steps=30, KAN_width=[in_dim,4,2,out_dim], KAN_grid=3, KAN_degree=2, KAN_lambda=0.001, last_best_acc=best_test_acc, model=model)\n",
    "\n",
    "\n",
    "\n",
    "#formulas, params = model.symbolic_formula()\n",
    "#print(formulas)\n",
    "    "
   ]
  },
  {
   "cell_type": "code",
   "execution_count": 36,
   "id": "1591cfe0-4fdd-4ddc-8941-f4e5cf6af49f",
   "metadata": {},
   "outputs": [
    {
     "name": "stdout",
     "output_type": "stream",
     "text": [
      "Parameter containing:\n",
      "tensor([[ 0.5493,  0.5842,  0.6190,  0.6539,  0.7091,  0.7298,  0.7690,  0.7999,\n",
      "          0.8281,  0.8630,  0.8978,  0.9327],\n",
      "        [ 0.0575,  0.1250,  0.1925,  0.2600,  0.3232,  0.3436,  0.3718,  0.5360,\n",
      "          0.5973,  0.6648,  0.7323,  0.7998],\n",
      "        [-0.0694,  0.0189,  0.1072,  0.1955,  0.2447,  0.5221,  0.5610,  0.5912,\n",
      "          0.6370,  0.7253,  0.8136,  0.9019],\n",
      "        [-0.1300, -0.0814, -0.0327,  0.0160,  0.0370,  0.1572,  0.1762,  0.2131,\n",
      "          0.2595,  0.3082,  0.3569,  0.4055]], device='cuda:0')\n",
      "Parameter containing:\n",
      "tensor([[-0.5359, -0.4520, -0.3681, -0.2843, -0.1369, -0.0712,  0.0163,  0.0977,\n",
      "          0.1350,  0.2189,  0.3027,  0.3866],\n",
      "        [-1.1595, -0.8213, -0.4831, -0.1448,  0.0154,  0.1657,  0.4093,  1.1061,\n",
      "          1.5463,  1.8845,  2.2227,  2.5610],\n",
      "        [-0.7543, -0.5197, -0.2851, -0.0505,  0.0231,  0.2368,  0.4203,  1.0376,\n",
      "          1.1226,  1.3572,  1.5918,  1.8264]], device='cuda:0')\n"
     ]
    },
    {
     "ename": "IndexError",
     "evalue": "index 2 is out of range",
     "output_type": "error",
     "traceback": [
      "\u001b[1;31m---------------------------------------------------------------------------\u001b[0m",
      "\u001b[1;31mIndexError\u001b[0m                                Traceback (most recent call last)",
      "Cell \u001b[1;32mIn[36], line 6\u001b[0m\n\u001b[0;32m      4\u001b[0m \u001b[38;5;28mprint\u001b[39m((model\u001b[38;5;241m.\u001b[39mact_fun[\u001b[38;5;241m0\u001b[39m]\u001b[38;5;241m.\u001b[39mgrid))\n\u001b[0;32m      5\u001b[0m \u001b[38;5;28mprint\u001b[39m((model\u001b[38;5;241m.\u001b[39mact_fun[\u001b[38;5;241m1\u001b[39m]\u001b[38;5;241m.\u001b[39mgrid))\n\u001b[1;32m----> 6\u001b[0m \u001b[38;5;28mprint\u001b[39m((\u001b[43mmodel\u001b[49m\u001b[38;5;241;43m.\u001b[39;49m\u001b[43mact_fun\u001b[49m\u001b[43m[\u001b[49m\u001b[38;5;241;43m2\u001b[39;49m\u001b[43m]\u001b[49m\u001b[38;5;241m.\u001b[39mgrid))\n",
      "File \u001b[1;32m~\\AppData\\Local\\Programs\\Python\\Python312\\Lib\\site-packages\\torch\\nn\\modules\\container.py:334\u001b[0m, in \u001b[0;36mModuleList.__getitem__\u001b[1;34m(self, idx)\u001b[0m\n\u001b[0;32m    332\u001b[0m     \u001b[38;5;28;01mreturn\u001b[39;00m \u001b[38;5;28mself\u001b[39m\u001b[38;5;241m.\u001b[39m\u001b[38;5;18m__class__\u001b[39m(\u001b[38;5;28mlist\u001b[39m(\u001b[38;5;28mself\u001b[39m\u001b[38;5;241m.\u001b[39m_modules\u001b[38;5;241m.\u001b[39mvalues())[idx])\n\u001b[0;32m    333\u001b[0m \u001b[38;5;28;01melse\u001b[39;00m:\n\u001b[1;32m--> 334\u001b[0m     \u001b[38;5;28;01mreturn\u001b[39;00m \u001b[38;5;28mself\u001b[39m\u001b[38;5;241m.\u001b[39m_modules[\u001b[38;5;28;43mself\u001b[39;49m\u001b[38;5;241;43m.\u001b[39;49m\u001b[43m_get_abs_string_index\u001b[49m\u001b[43m(\u001b[49m\u001b[43midx\u001b[49m\u001b[43m)\u001b[49m]\n",
      "File \u001b[1;32m~\\AppData\\Local\\Programs\\Python\\Python312\\Lib\\site-packages\\torch\\nn\\modules\\container.py:316\u001b[0m, in \u001b[0;36mModuleList._get_abs_string_index\u001b[1;34m(self, idx)\u001b[0m\n\u001b[0;32m    314\u001b[0m idx \u001b[38;5;241m=\u001b[39m operator\u001b[38;5;241m.\u001b[39mindex(idx)\n\u001b[0;32m    315\u001b[0m \u001b[38;5;28;01mif\u001b[39;00m \u001b[38;5;129;01mnot\u001b[39;00m (\u001b[38;5;241m-\u001b[39m\u001b[38;5;28mlen\u001b[39m(\u001b[38;5;28mself\u001b[39m) \u001b[38;5;241m<\u001b[39m\u001b[38;5;241m=\u001b[39m idx \u001b[38;5;241m<\u001b[39m \u001b[38;5;28mlen\u001b[39m(\u001b[38;5;28mself\u001b[39m)):\n\u001b[1;32m--> 316\u001b[0m     \u001b[38;5;28;01mraise\u001b[39;00m \u001b[38;5;167;01mIndexError\u001b[39;00m(\u001b[38;5;124mf\u001b[39m\u001b[38;5;124m\"\u001b[39m\u001b[38;5;124mindex \u001b[39m\u001b[38;5;132;01m{\u001b[39;00midx\u001b[38;5;132;01m}\u001b[39;00m\u001b[38;5;124m is out of range\u001b[39m\u001b[38;5;124m\"\u001b[39m)\n\u001b[0;32m    317\u001b[0m \u001b[38;5;28;01mif\u001b[39;00m idx \u001b[38;5;241m<\u001b[39m \u001b[38;5;241m0\u001b[39m:\n\u001b[0;32m    318\u001b[0m     idx \u001b[38;5;241m+\u001b[39m\u001b[38;5;241m=\u001b[39m \u001b[38;5;28mlen\u001b[39m(\u001b[38;5;28mself\u001b[39m)\n",
      "\u001b[1;31mIndexError\u001b[0m: index 2 is out of range"
     ]
    }
   ],
   "source": [
    "#model.plot(folder='./figures_post')\n",
    "\n",
    "\n",
    "print((model.act_fun[0].grid))\n",
    "print((model.act_fun[1].grid))\n",
    "print((model.act_fun[2].grid))"
   ]
  },
  {
   "cell_type": "code",
   "execution_count": 10,
   "id": "7e62074d-0e90-4a5e-81f1-1e8a4087f136",
   "metadata": {},
   "outputs": [
    {
     "name": "stdout",
     "output_type": "stream",
     "text": [
      "saving model version 0.31\n",
      "fixing (0,0,0) with 0, r2=0.0, c=0\n",
      "fixing (0,0,1) with 0, r2=0.0, c=0\n",
      "fixing (0,0,2) with 0, r2=0.0, c=0\n",
      "fixing (0,1,0) with cos, r2=0.9978286623954773, c=2\n",
      "fixing (0,1,1) with cos, r2=0.9987172484397888, c=2\n",
      "fixing (0,1,2) with 0, r2=0.0, c=0\n",
      "fixing (0,2,0) with cos, r2=0.9996832013130188, c=2\n",
      "fixing (0,2,1) with 0, r2=0.0, c=0\n",
      "fixing (0,2,2) with 0, r2=0.0, c=0\n",
      "fixing (0,3,0) with 0, r2=0.0, c=0\n",
      "fixing (0,3,1) with 0, r2=0.0, c=0\n",
      "fixing (0,3,2) with x, r2=0.9896095991134644, c=1\n",
      "fixing (1,0,0) with x, r2=0.9801028370857239, c=1\n",
      "fixing (1,0,1) with cos, r2=0.9999671578407288, c=2\n",
      "fixing (1,0,2) with x, r2=0.9684668183326721, c=1\n",
      "fixing (1,1,0) with 0, r2=0.0, c=0\n",
      "fixing (1,1,1) with 0, r2=0.0, c=0\n",
      "fixing (1,1,2) with 0, r2=0.0, c=0\n",
      "fixing (1,2,0) with 0, r2=0.0, c=0\n",
      "fixing (1,2,1) with 0, r2=0.0, c=0\n",
      "fixing (1,2,2) with 0, r2=0.0, c=0\n",
      "saving model version 0.31\n"
     ]
    },
    {
     "data": {
      "image/png": "[encoded data removed]",
      "text/plain": [
       "<Figure size 500x400 with 28 Axes>"
      ]
     },
     "metadata": {},
     "output_type": "display_data"
    }
   ],
   "source": [
    "model.prune()\n",
    "model.auto_symbolic()\n",
    "model.plot(folder='./figures_post') #matplotlib save"
   ]
  },
  {
   "cell_type": "code",
   "execution_count": 12,
   "id": "d0a207c2-54a1-424f-9c44-444f2f69422e",
   "metadata": {},
   "outputs": [
    {
     "name": "stdout",
     "output_type": "stream",
     "text": [
      "-0.4079*(0.5509*cos(10.0*x_2 - 6.2) - 0.3866*cos(7.7947*x_3 + 1.8123) - 1)**2 + 5.1245*cos(0.1437*cos(10.0*x_2 - 6.2) - 0.4875*cos(8.5437*x_3 + 1.6198) + 5.4238) - 4.5756\n",
      "0.2055*(0.5234*cos(10.0*x_2 - 6.2) - 0.3674*cos(7.7947*x_3 + 1.8123) - 1)**2 + 6.2384*sin(-0.1463*cos(10.0*x_2 - 6.2) + 0.4965*cos(8.5437*x_3 + 1.6198) + 5.585) + 5.7748\n",
      "0.2597*(0.5699*cos(10.0*x_2 - 6.2) - 0.3999*cos(7.7947*x_3 + 1.8123) - 1)**2 + 0.0181*cos(10.0*x_2 - 6.2) - 0.0614*cos(8.5437*x_3 + 1.6198) + 0.8724\n",
      "([-0.407927343862334*(0.550913262056204*cos(10.0*x_2 - 6.19999980926514) - 0.386647871726185*cos(7.79472017288208*x_3 + 1.81231987476349) - 1)**2 + 5.12454891204834*cos(0.143650098829395*cos(10.0*x_2 - 6.19999980926514) - 0.487467177798706*cos(8.54367923736572*x_3 + 1.61983978748322) + 5.42380235808389) - 4.57557912170887, 0.205489010359671*(0.523443017141687*cos(10.0*x_2 - 6.19999980926514) - 0.367368408944053*cos(7.79472017288208*x_3 + 1.81231987476349) - 1)**2 + 6.23841238021851*sin(-0.146300983462961*cos(10.0*x_2 - 6.19999980926514) + 0.496462780736152*cos(8.54367923736572*x_3 + 1.61983978748322) + 5.58497902347299) + 5.77476121485233, 0.25970677206319*(0.569858073635836*cos(10.0*x_2 - 6.19999980926514) - 0.399943923177513*cos(7.79472017288208*x_3 + 1.81231987476349) - 1)**2 + 0.0180808364841717*cos(10.0*x_2 - 6.19999980926514) - 0.0613561313566982*cos(8.54367923736572*x_3 + 1.61983978748322) + 0.872400386309257], [x_1, x_2, x_3, x_4])\n"
     ]
    }
   ],
   "source": [
    "formula1, formula2, formula3 = model.symbolic_formula()[0]\n",
    "print(ex_round(formula1, 4))\n",
    "print(ex_round(formula2, 4))\n",
    "print(ex_round(formula3, 4))\n",
    "print(model.symbolic_formula())"
   ]
  },
  {
   "cell_type": "code",
   "execution_count": 13,
   "id": "20868055-0c88-46e2-b81f-7ae93ae45147",
   "metadata": {},
   "outputs": [
    {
     "name": "stdout",
     "output_type": "stream",
     "text": [
      "tensor(0.3200, device='cuda:0')\n",
      "tensor([False, False, False, False, False, False, False,  True,  True, False,\n",
      "        False, False, False,  True, False, False, False, False, False, False,\n",
      "         True,  True, False, False, False, False,  True,  True, False, False,\n",
      "        False,  True,  True, False,  True, False, False,  True,  True,  True,\n",
      "        False,  True, False, False, False, False,  True, False,  True, False],\n",
      "       device='cuda:0')\n",
      "tensor([1, 1, 1, 1, 1, 1, 2, 1, 1, 2, 2, 1, 2, 1, 1, 2, 1, 1, 1, 2, 1, 1, 1, 2,\n",
      "        1, 2, 1, 1, 1, 1, 2, 1, 1, 2, 1, 1, 2, 1, 1, 1, 2, 1, 1, 1, 1, 1, 1, 2,\n",
      "        1, 2], device='cuda:0')\n",
      "tensor([2, 2, 2, 2, 2, 2, 0, 1, 1, 0, 0, 2, 0, 1, 2, 0, 2, 2, 2, 0, 1, 1, 2, 0,\n",
      "        2, 0, 1, 1, 2, 2, 0, 1, 1, 0, 1, 2, 0, 1, 1, 1, 0, 1, 2, 2, 2, 2, 1, 0,\n",
      "        1, 0], device='cuda:0')\n"
     ]
    }
   ],
   "source": [
    "print(torch.mean((torch.argmax(model(dataset['test_input']), dim=1) == dataset['test_label']).type(dtype)))\n",
    "print((torch.argmax(model(dataset['test_input']), dim=1) == dataset['test_label']))\n",
    "print((torch.argmax(model(dataset['test_input']), dim=1)))\n",
    "print((dataset['test_label']))\n",
    "best_test_acc = torch.mean((torch.argmax(model(dataset['test_input']), dim=1) == dataset['test_label']).type(dtype))"
   ]
  },
  {
   "cell_type": "code",
   "execution_count": 14,
   "id": "78842732-b1c3-4728-9fbb-c6963f2c4701",
   "metadata": {},
   "outputs": [
    {
     "name": "stderr",
     "output_type": "stream",
     "text": [
      "| train_loss: 6.78e-01 | test_loss: 7.11e-01 | reg: 0.00e+00 | : 100%|█| 1/1 [00:02<00:00,  2.02s/it\n"
     ]
    },
    {
     "name": "stdout",
     "output_type": "stream",
     "text": [
      "saving model version 0.10\n",
      "best_test_acc:  0.7999999523162842\n"
     ]
    },
    {
     "name": "stderr",
     "output_type": "stream",
     "text": [
      "| train_loss: 5.55e-01 | test_loss: 6.13e-01 | reg: 0.00e+00 | : 100%|█| 1/1 [00:01<00:00,  1.85s/it\n"
     ]
    },
    {
     "name": "stdout",
     "output_type": "stream",
     "text": [
      "saving model version 0.11\n",
      "best_test_acc:  0.8999999761581421\n"
     ]
    },
    {
     "name": "stderr",
     "output_type": "stream",
     "text": [
      "| train_loss: 4.18e-01 | test_loss: 5.37e-01 | reg: 0.00e+00 | : 100%|█| 1/1 [00:02<00:00,  2.03s/it\n"
     ]
    },
    {
     "name": "stdout",
     "output_type": "stream",
     "text": [
      "saving model version 0.12\n",
      "best_test_acc:  0.8999999761581421\n"
     ]
    },
    {
     "name": "stderr",
     "output_type": "stream",
     "text": [
      "| train_loss: 3.77e-01 | test_loss: 5.27e-01 | reg: 0.00e+00 | : 100%|█| 1/1 [00:01<00:00,  1.89s/it\n"
     ]
    },
    {
     "name": "stdout",
     "output_type": "stream",
     "text": [
      "saving model version 0.13\n"
     ]
    },
    {
     "name": "stderr",
     "output_type": "stream",
     "text": [
      "| train_loss: 3.29e-01 | test_loss: 5.28e-01 | reg: 0.00e+00 | : 100%|█| 1/1 [00:01<00:00,  1.92s/it\n"
     ]
    },
    {
     "name": "stdout",
     "output_type": "stream",
     "text": [
      "saving model version 0.14\n",
      "best_test_acc:  0.8999999761581421\n"
     ]
    },
    {
     "name": "stderr",
     "output_type": "stream",
     "text": [
      "| train_loss: 3.13e-01 | test_loss: 5.87e-01 | reg: 0.00e+00 | : 100%|█| 1/1 [00:01<00:00,  1.93s/it\n"
     ]
    },
    {
     "name": "stdout",
     "output_type": "stream",
     "text": [
      "saving model version 0.15\n"
     ]
    },
    {
     "name": "stderr",
     "output_type": "stream",
     "text": [
      "| train_loss: 3.03e-01 | test_loss: 5.72e-01 | reg: 0.00e+00 | : 100%|█| 1/1 [00:01<00:00,  1.90s/it\n"
     ]
    },
    {
     "name": "stdout",
     "output_type": "stream",
     "text": [
      "saving model version 0.16\n"
     ]
    },
    {
     "name": "stderr",
     "output_type": "stream",
     "text": [
      "| train_loss: 3.02e-01 | test_loss: 5.72e-01 | reg: 0.00e+00 | : 100%|█| 1/1 [00:02<00:00,  2.04s/it\n"
     ]
    },
    {
     "name": "stdout",
     "output_type": "stream",
     "text": [
      "saving model version 0.17\n",
      "best_test_acc:  0.8999999761581421\n"
     ]
    },
    {
     "name": "stderr",
     "output_type": "stream",
     "text": [
      "| train_loss: 3.02e-01 | test_loss: 5.73e-01 | reg: 0.00e+00 | : 100%|█| 1/1 [00:00<00:00,  1.65it/s\n"
     ]
    },
    {
     "name": "stdout",
     "output_type": "stream",
     "text": [
      "saving model version 0.18\n",
      "best_test_acc:  0.8999999761581421\n"
     ]
    },
    {
     "name": "stderr",
     "output_type": "stream",
     "text": [
      "| train_loss: 3.02e-01 | test_loss: 5.85e-01 | reg: 0.00e+00 | : 100%|█| 1/1 [00:01<00:00,  1.34s/it\n"
     ]
    },
    {
     "name": "stdout",
     "output_type": "stream",
     "text": [
      "saving model version 0.19\n",
      "best_test_acc:  0.8999999761581421\n"
     ]
    },
    {
     "name": "stderr",
     "output_type": "stream",
     "text": [
      "| train_loss: 3.02e-01 | test_loss: 5.85e-01 | reg: 0.00e+00 | : 100%|█| 1/1 [00:01<00:00,  1.49s/it\n"
     ]
    },
    {
     "name": "stdout",
     "output_type": "stream",
     "text": [
      "saving model version 0.20\n",
      "best_test_acc:  0.8999999761581421\n"
     ]
    },
    {
     "name": "stderr",
     "output_type": "stream",
     "text": [
      "| train_loss: 3.02e-01 | test_loss: 5.85e-01 | reg: 0.00e+00 | : 100%|█| 1/1 [00:00<00:00,  1.58it/s\n"
     ]
    },
    {
     "name": "stdout",
     "output_type": "stream",
     "text": [
      "saving model version 0.21\n",
      "best_test_acc:  0.8999999761581421\n"
     ]
    },
    {
     "name": "stderr",
     "output_type": "stream",
     "text": [
      "| train_loss: 3.02e-01 | test_loss: 5.85e-01 | reg: 0.00e+00 | : 100%|█| 1/1 [00:00<00:00,  1.57it/s\n"
     ]
    },
    {
     "name": "stdout",
     "output_type": "stream",
     "text": [
      "saving model version 0.22\n",
      "best_test_acc:  0.8999999761581421\n"
     ]
    },
    {
     "name": "stderr",
     "output_type": "stream",
     "text": [
      "| train_loss: 3.02e-01 | test_loss: 5.85e-01 | reg: 0.00e+00 | : 100%|█| 1/1 [00:00<00:00,  1.53it/s\n"
     ]
    },
    {
     "name": "stdout",
     "output_type": "stream",
     "text": [
      "saving model version 0.23\n",
      "best_test_acc:  0.8999999761581421\n"
     ]
    },
    {
     "name": "stderr",
     "output_type": "stream",
     "text": [
      "| train_loss: 3.02e-01 | test_loss: 5.85e-01 | reg: 0.00e+00 | : 100%|█| 1/1 [00:00<00:00,  1.56it/s\n"
     ]
    },
    {
     "name": "stdout",
     "output_type": "stream",
     "text": [
      "saving model version 0.24\n",
      "best_test_acc:  0.8999999761581421\n"
     ]
    },
    {
     "name": "stderr",
     "output_type": "stream",
     "text": [
      "| train_loss: 3.02e-01 | test_loss: 5.85e-01 | reg: 0.00e+00 | : 100%|█| 1/1 [00:00<00:00,  1.68it/s\n"
     ]
    },
    {
     "name": "stdout",
     "output_type": "stream",
     "text": [
      "saving model version 0.25\n",
      "best_test_acc:  0.8999999761581421\n"
     ]
    },
    {
     "name": "stderr",
     "output_type": "stream",
     "text": [
      "| train_loss: 3.02e-01 | test_loss: 5.85e-01 | reg: 0.00e+00 | : 100%|█| 1/1 [00:00<00:00,  1.53it/s\n"
     ]
    },
    {
     "name": "stdout",
     "output_type": "stream",
     "text": [
      "saving model version 0.26\n",
      "best_test_acc:  0.8999999761581421\n"
     ]
    },
    {
     "name": "stderr",
     "output_type": "stream",
     "text": [
      "| train_loss: 3.02e-01 | test_loss: 5.85e-01 | reg: 0.00e+00 | : 100%|█| 1/1 [00:00<00:00,  1.71it/s\n"
     ]
    },
    {
     "name": "stdout",
     "output_type": "stream",
     "text": [
      "saving model version 0.27\n",
      "best_test_acc:  0.8999999761581421\n"
     ]
    },
    {
     "name": "stderr",
     "output_type": "stream",
     "text": [
      "| train_loss: 3.02e-01 | test_loss: 5.85e-01 | reg: 0.00e+00 | : 100%|█| 1/1 [00:00<00:00,  1.54it/s\n"
     ]
    },
    {
     "name": "stdout",
     "output_type": "stream",
     "text": [
      "saving model version 0.28\n",
      "best_test_acc:  0.8999999761581421\n"
     ]
    },
    {
     "name": "stderr",
     "output_type": "stream",
     "text": [
      "| train_loss: 3.02e-01 | test_loss: 5.85e-01 | reg: 0.00e+00 | : 100%|█| 1/1 [00:00<00:00,  1.63it/s\n"
     ]
    },
    {
     "name": "stdout",
     "output_type": "stream",
     "text": [
      "saving model version 0.29\n",
      "best_test_acc:  0.8999999761581421\n"
     ]
    },
    {
     "name": "stderr",
     "output_type": "stream",
     "text": [
      "| train_loss: 3.02e-01 | test_loss: 5.85e-01 | reg: 0.00e+00 | : 100%|█| 1/1 [00:00<00:00,  1.62it/s\n"
     ]
    },
    {
     "name": "stdout",
     "output_type": "stream",
     "text": [
      "saving model version 0.30\n",
      "best_test_acc:  0.8999999761581421\n"
     ]
    },
    {
     "name": "stderr",
     "output_type": "stream",
     "text": [
      "| train_loss: 3.02e-01 | test_loss: 5.85e-01 | reg: 0.00e+00 | : 100%|█| 1/1 [00:00<00:00,  1.67it/s\n"
     ]
    },
    {
     "name": "stdout",
     "output_type": "stream",
     "text": [
      "saving model version 0.31\n",
      "best_test_acc:  0.8999999761581421\n"
     ]
    },
    {
     "name": "stderr",
     "output_type": "stream",
     "text": [
      "| train_loss: 3.02e-01 | test_loss: 5.85e-01 | reg: 0.00e+00 | : 100%|█| 1/1 [00:00<00:00,  1.59it/s\n"
     ]
    },
    {
     "name": "stdout",
     "output_type": "stream",
     "text": [
      "saving model version 0.32\n",
      "best_test_acc:  0.8999999761581421\n"
     ]
    },
    {
     "name": "stderr",
     "output_type": "stream",
     "text": [
      "| train_loss: 3.02e-01 | test_loss: 5.85e-01 | reg: 0.00e+00 | : 100%|█| 1/1 [00:00<00:00,  1.54it/s\n"
     ]
    },
    {
     "name": "stdout",
     "output_type": "stream",
     "text": [
      "saving model version 0.33\n",
      "best_test_acc:  0.8999999761581421\n"
     ]
    },
    {
     "name": "stderr",
     "output_type": "stream",
     "text": [
      "| train_loss: 3.02e-01 | test_loss: 5.85e-01 | reg: 0.00e+00 | : 100%|█| 1/1 [00:00<00:00,  1.69it/s\n"
     ]
    },
    {
     "name": "stdout",
     "output_type": "stream",
     "text": [
      "saving model version 0.34\n",
      "best_test_acc:  0.8999999761581421\n"
     ]
    },
    {
     "name": "stderr",
     "output_type": "stream",
     "text": [
      "| train_loss: 3.02e-01 | test_loss: 5.85e-01 | reg: 0.00e+00 | : 100%|█| 1/1 [00:00<00:00,  1.64it/s\n"
     ]
    },
    {
     "name": "stdout",
     "output_type": "stream",
     "text": [
      "saving model version 0.35\n",
      "best_test_acc:  0.8999999761581421\n"
     ]
    },
    {
     "name": "stderr",
     "output_type": "stream",
     "text": [
      "| train_loss: 3.02e-01 | test_loss: 5.85e-01 | reg: 0.00e+00 | : 100%|█| 1/1 [00:00<00:00,  1.60it/s\n"
     ]
    },
    {
     "name": "stdout",
     "output_type": "stream",
     "text": [
      "saving model version 0.36\n",
      "best_test_acc:  0.8999999761581421\n"
     ]
    },
    {
     "name": "stderr",
     "output_type": "stream",
     "text": [
      "| train_loss: 3.02e-01 | test_loss: 5.85e-01 | reg: 0.00e+00 | : 100%|█| 1/1 [00:00<00:00,  1.62it/s\n"
     ]
    },
    {
     "name": "stdout",
     "output_type": "stream",
     "text": [
      "saving model version 0.37\n",
      "best_test_acc:  0.8999999761581421\n"
     ]
    },
    {
     "name": "stderr",
     "output_type": "stream",
     "text": [
      "| train_loss: 3.02e-01 | test_loss: 5.85e-01 | reg: 0.00e+00 | : 100%|█| 1/1 [00:00<00:00,  1.83it/s\n"
     ]
    },
    {
     "name": "stdout",
     "output_type": "stream",
     "text": [
      "saving model version 0.38\n",
      "best_test_acc:  0.8999999761581421\n"
     ]
    },
    {
     "name": "stderr",
     "output_type": "stream",
     "text": [
      "| train_loss: 3.02e-01 | test_loss: 5.85e-01 | reg: 0.00e+00 | : 100%|█| 1/1 [00:00<00:00,  1.81it/s"
     ]
    },
    {
     "name": "stdout",
     "output_type": "stream",
     "text": [
      "saving model version 0.39\n",
      "best_test_acc:  0.8999999761581421\n"
     ]
    },
    {
     "name": "stderr",
     "output_type": "stream",
     "text": [
      "\n"
     ]
    }
   ],
   "source": [
    "model, results, best_test_acc = trainKAN(dataset, steps=30, KAN_width=[in_dim,4,2,out_dim], KAN_grid=3, KAN_degree=2, KAN_lambda=0.001, last_best_acc=best_test_acc, model=model)\n"
   ]
  },
  {
   "cell_type": "code",
   "execution_count": 15,
   "id": "9b7ccf86-c785-4ce5-a2ce-af440cd9583b",
   "metadata": {},
   "outputs": [
    {
     "name": "stdout",
     "output_type": "stream",
     "text": [
      "tensor(0.9000, device='cuda:0')\n",
      "tensor([ True, False,  True,  True,  True,  True,  True,  True,  True,  True,\n",
      "         True,  True,  True,  True,  True,  True,  True,  True,  True,  True,\n",
      "         True,  True,  True,  True,  True,  True,  True,  True, False,  True,\n",
      "         True,  True,  True,  True,  True, False,  True, False,  True,  True,\n",
      "         True,  True, False,  True,  True,  True,  True,  True,  True,  True],\n",
      "       device='cuda:0')\n",
      "tensor([2, 1, 2, 2, 2, 2, 0, 1, 1, 0, 0, 2, 0, 1, 2, 0, 2, 2, 2, 0, 1, 1, 2, 0,\n",
      "        2, 0, 1, 1, 1, 2, 0, 1, 1, 0, 1, 1, 0, 2, 1, 1, 0, 1, 1, 2, 2, 2, 1, 0,\n",
      "        1, 0], device='cuda:0')\n"
     ]
    }
   ],
   "source": [
    "print(torch.mean((torch.argmax(model(dataset['test_input']), dim=1) == dataset['test_label']).type(dtype)))\n",
    "print((torch.argmax(model(dataset['test_input']), dim=1) == dataset['test_label']))\n",
    "print((torch.argmax(model(dataset['test_input']), dim=1)))"
   ]
  },
  {
   "cell_type": "code",
   "execution_count": 37,
   "id": "c9fd9eeb-edf3-48da-9741-4b6b8223c45d",
   "metadata": {},
   "outputs": [
    {
     "name": "stdout",
     "output_type": "stream",
     "text": [
      "0.9729729890823364\n"
     ]
    }
   ],
   "source": [
    "print(torch.mean((torch.argmax(model(dataset['test_input']), dim=1) == dataset['test_label']).type(dtype)).item())\n",
    "    "
   ]
  },
  {
   "cell_type": "code",
   "execution_count": 38,
   "id": "a77ed6ee-906c-44b4-98a1-a24d6f348dff",
   "metadata": {},
   "outputs": [
    {
     "name": "stdout",
     "output_type": "stream",
     "text": [
      "cuda\n",
      "checkpoint directory created: ./model\n",
      "saving model version 0.0\n"
     ]
    },
    {
     "name": "stderr",
     "output_type": "stream",
     "text": [
      "| train_loss: 5.15e-01 | test_loss: 5.85e-01 | reg: 5.83e+00 | : 100%|█| 20/20 [00:10<00:00,  1.97it"
     ]
    },
    {
     "name": "stdout",
     "output_type": "stream",
     "text": [
      "saving model version 0.1\n"
     ]
    },
    {
     "name": "stderr",
     "output_type": "stream",
     "text": [
      "\n"
     ]
    }
   ],
   "source": [
    "#FROM EXAMPLE\n",
    "from kan import *\n",
    "\n",
    "device = torch.device('cuda' if torch.cuda.is_available() else 'cpu')\n",
    "print(device)\n",
    "\n",
    "# create a KAN: 2D inputs, 1D output, and 5 hidden neurons. cubic spline (k=3), 5 grid intervals (grid=5).\n",
    "model = KAN(width=[2,1,1], grid=3, k=3, seed=2, device=device)\n",
    "f = lambda x: torch.exp(torch.special.bessel_j0(20*x[:,[0]]) + x[:,[1]]**2)\n",
    "dataset = create_dataset(f, n_var=2, device=device)\n",
    "\n",
    "# train the model\n",
    "model.fit(dataset, opt=\"LBFGS\", steps=20);"
   ]
  },
  {
   "cell_type": "code",
   "execution_count": 86,
   "id": "1f3ae7fb-0b43-446e-9d61-4d49c63c998e",
   "metadata": {},
   "outputs": [
    {
     "ename": "RuntimeError",
     "evalue": "CUDA error: device-side assert triggered\nCUDA kernel errors might be asynchronously reported at some other API call, so the stacktrace below might be incorrect.\nFor debugging consider passing CUDA_LAUNCH_BLOCKING=1\nCompile with `TORCH_USE_CUDA_DSA` to enable device-side assertions.\n",
     "output_type": "error",
     "traceback": [
      "\u001b[1;31m---------------------------------------------------------------------------\u001b[0m",
      "\u001b[1;31mRuntimeError\u001b[0m                              Traceback (most recent call last)",
      "Cell \u001b[1;32mIn[86], line 16\u001b[0m\n\u001b[0;32m     13\u001b[0m     \u001b[38;5;28;01mreturn\u001b[39;00m torch\u001b[38;5;241m.\u001b[39mfrom_numpy(np\u001b[38;5;241m.\u001b[39marray(ret))\u001b[38;5;241m.\u001b[39mtype(result_type)\u001b[38;5;241m.\u001b[39mto(device)\n\u001b[0;32m     15\u001b[0m \u001b[38;5;66;03m# create a KAN: 2D inputs, 1D output, and 5 hidden neurons. cubic spline (k=3), 5 grid intervals (grid=5).\u001b[39;00m\n\u001b[1;32m---> 16\u001b[0m model \u001b[38;5;241m=\u001b[39m \u001b[43mKAN\u001b[49m\u001b[43m(\u001b[49m\u001b[43mwidth\u001b[49m\u001b[38;5;241;43m=\u001b[39;49m\u001b[43m[\u001b[49m\u001b[38;5;241;43m1\u001b[39;49m\u001b[43m,\u001b[49m\u001b[38;5;241;43m1\u001b[39;49m\u001b[43m,\u001b[49m\u001b[38;5;241;43m1\u001b[39;49m\u001b[43m]\u001b[49m\u001b[43m,\u001b[49m\u001b[43m \u001b[49m\u001b[43mgrid\u001b[49m\u001b[38;5;241;43m=\u001b[39;49m\u001b[38;5;241;43m3\u001b[39;49m\u001b[43m,\u001b[49m\u001b[43m \u001b[49m\u001b[43mk\u001b[49m\u001b[38;5;241;43m=\u001b[39;49m\u001b[38;5;241;43m3\u001b[39;49m\u001b[43m,\u001b[49m\u001b[43m \u001b[49m\u001b[43mseed\u001b[49m\u001b[38;5;241;43m=\u001b[39;49m\u001b[38;5;241;43m2\u001b[39;49m\u001b[43m,\u001b[49m\u001b[43m \u001b[49m\u001b[43mdevice\u001b[49m\u001b[38;5;241;43m=\u001b[39;49m\u001b[43mdevice\u001b[49m\u001b[43m)\u001b[49m\n\u001b[0;32m     17\u001b[0m f \u001b[38;5;241m=\u001b[39m \u001b[38;5;28;01mlambda\u001b[39;00m x: wierd_fun(x)\n\u001b[0;32m     18\u001b[0m dataset \u001b[38;5;241m=\u001b[39m create_dataset(f, n_var\u001b[38;5;241m=\u001b[39m\u001b[38;5;241m1\u001b[39m, device\u001b[38;5;241m=\u001b[39mdevice)\n",
      "File \u001b[1;32m~\\AppData\\Local\\Programs\\Python\\Python312\\Lib\\site-packages\\kan\\MultKAN.py:158\u001b[0m, in \u001b[0;36mMultKAN.__init__\u001b[1;34m(self, width, grid, k, mult_arity, noise_scale, scale_base_mu, scale_base_sigma, base_fun, symbolic_enabled, affine_trainable, grid_eps, grid_range, sp_trainable, sb_trainable, seed, save_act, sparse_init, auto_save, first_init, ckpt_path, state_id, round, device)\u001b[0m\n\u001b[0;32m     97\u001b[0m \u001b[38;5;250m\u001b[39m\u001b[38;5;124;03m'''\u001b[39;00m\n\u001b[0;32m     98\u001b[0m \u001b[38;5;124;03minitalize a KAN model\u001b[39;00m\n\u001b[0;32m     99\u001b[0m \u001b[38;5;124;03m\u001b[39;00m\n\u001b[1;32m   (...)\u001b[0m\n\u001b[0;32m    154\u001b[0m \u001b[38;5;124;03msaving model version 0.0\u001b[39;00m\n\u001b[0;32m    155\u001b[0m \u001b[38;5;124;03m'''\u001b[39;00m\n\u001b[0;32m    156\u001b[0m \u001b[38;5;28msuper\u001b[39m(MultKAN, \u001b[38;5;28mself\u001b[39m)\u001b[38;5;241m.\u001b[39m\u001b[38;5;21m__init__\u001b[39m()\n\u001b[1;32m--> 158\u001b[0m \u001b[43mtorch\u001b[49m\u001b[38;5;241;43m.\u001b[39;49m\u001b[43mmanual_seed\u001b[49m\u001b[43m(\u001b[49m\u001b[43mseed\u001b[49m\u001b[43m)\u001b[49m\n\u001b[0;32m    159\u001b[0m np\u001b[38;5;241m.\u001b[39mrandom\u001b[38;5;241m.\u001b[39mseed(seed)\n\u001b[0;32m    160\u001b[0m random\u001b[38;5;241m.\u001b[39mseed(seed)\n",
      "File \u001b[1;32m~\\AppData\\Local\\Programs\\Python\\Python312\\Lib\\site-packages\\torch\\_compile.py:32\u001b[0m, in \u001b[0;36m_disable_dynamo.<locals>.inner\u001b[1;34m(*args, **kwargs)\u001b[0m\n\u001b[0;32m     29\u001b[0m     disable_fn \u001b[38;5;241m=\u001b[39m torch\u001b[38;5;241m.\u001b[39m_dynamo\u001b[38;5;241m.\u001b[39mdisable(fn, recursive)\n\u001b[0;32m     30\u001b[0m     fn\u001b[38;5;241m.\u001b[39m__dynamo_disable \u001b[38;5;241m=\u001b[39m disable_fn\n\u001b[1;32m---> 32\u001b[0m \u001b[38;5;28;01mreturn\u001b[39;00m \u001b[43mdisable_fn\u001b[49m\u001b[43m(\u001b[49m\u001b[38;5;241;43m*\u001b[39;49m\u001b[43margs\u001b[49m\u001b[43m,\u001b[49m\u001b[43m \u001b[49m\u001b[38;5;241;43m*\u001b[39;49m\u001b[38;5;241;43m*\u001b[39;49m\u001b[43mkwargs\u001b[49m\u001b[43m)\u001b[49m\n",
      "File \u001b[1;32m~\\AppData\\Local\\Programs\\Python\\Python312\\Lib\\site-packages\\torch\\_dynamo\\eval_frame.py:632\u001b[0m, in \u001b[0;36mDisableContext.__call__.<locals>._fn\u001b[1;34m(*args, **kwargs)\u001b[0m\n\u001b[0;32m    630\u001b[0m prior \u001b[38;5;241m=\u001b[39m _maybe_set_eval_frame(callback)\n\u001b[0;32m    631\u001b[0m \u001b[38;5;28;01mtry\u001b[39;00m:\n\u001b[1;32m--> 632\u001b[0m     \u001b[38;5;28;01mreturn\u001b[39;00m \u001b[43mfn\u001b[49m\u001b[43m(\u001b[49m\u001b[38;5;241;43m*\u001b[39;49m\u001b[43margs\u001b[49m\u001b[43m,\u001b[49m\u001b[43m \u001b[49m\u001b[38;5;241;43m*\u001b[39;49m\u001b[38;5;241;43m*\u001b[39;49m\u001b[43mkwargs\u001b[49m\u001b[43m)\u001b[49m\n\u001b[0;32m    633\u001b[0m \u001b[38;5;28;01mfinally\u001b[39;00m:\n\u001b[0;32m    634\u001b[0m     _maybe_set_eval_frame(prior)\n",
      "File \u001b[1;32m~\\AppData\\Local\\Programs\\Python\\Python312\\Lib\\site-packages\\torch\\random.py:46\u001b[0m, in \u001b[0;36mmanual_seed\u001b[1;34m(seed)\u001b[0m\n\u001b[0;32m     43\u001b[0m \u001b[38;5;28;01mimport\u001b[39;00m \u001b[38;5;21;01mtorch\u001b[39;00m\u001b[38;5;21;01m.\u001b[39;00m\u001b[38;5;21;01mcuda\u001b[39;00m\n\u001b[0;32m     45\u001b[0m \u001b[38;5;28;01mif\u001b[39;00m \u001b[38;5;129;01mnot\u001b[39;00m torch\u001b[38;5;241m.\u001b[39mcuda\u001b[38;5;241m.\u001b[39m_is_in_bad_fork():\n\u001b[1;32m---> 46\u001b[0m     \u001b[43mtorch\u001b[49m\u001b[38;5;241;43m.\u001b[39;49m\u001b[43mcuda\u001b[49m\u001b[38;5;241;43m.\u001b[39;49m\u001b[43mmanual_seed_all\u001b[49m\u001b[43m(\u001b[49m\u001b[43mseed\u001b[49m\u001b[43m)\u001b[49m\n\u001b[0;32m     48\u001b[0m \u001b[38;5;28;01mimport\u001b[39;00m \u001b[38;5;21;01mtorch\u001b[39;00m\u001b[38;5;21;01m.\u001b[39;00m\u001b[38;5;21;01mmps\u001b[39;00m\n\u001b[0;32m     50\u001b[0m \u001b[38;5;28;01mif\u001b[39;00m \u001b[38;5;129;01mnot\u001b[39;00m torch\u001b[38;5;241m.\u001b[39mmps\u001b[38;5;241m.\u001b[39m_is_in_bad_fork():\n",
      "File \u001b[1;32m~\\AppData\\Local\\Programs\\Python\\Python312\\Lib\\site-packages\\torch\\cuda\\random.py:129\u001b[0m, in \u001b[0;36mmanual_seed_all\u001b[1;34m(seed)\u001b[0m\n\u001b[0;32m    126\u001b[0m         default_generator \u001b[38;5;241m=\u001b[39m torch\u001b[38;5;241m.\u001b[39mcuda\u001b[38;5;241m.\u001b[39mdefault_generators[i]\n\u001b[0;32m    127\u001b[0m         default_generator\u001b[38;5;241m.\u001b[39mmanual_seed(seed)\n\u001b[1;32m--> 129\u001b[0m \u001b[43m_lazy_call\u001b[49m\u001b[43m(\u001b[49m\u001b[43mcb\u001b[49m\u001b[43m,\u001b[49m\u001b[43m \u001b[49m\u001b[43mseed_all\u001b[49m\u001b[38;5;241;43m=\u001b[39;49m\u001b[38;5;28;43;01mTrue\u001b[39;49;00m\u001b[43m)\u001b[49m\n",
      "File \u001b[1;32m~\\AppData\\Local\\Programs\\Python\\Python312\\Lib\\site-packages\\torch\\cuda\\__init__.py:249\u001b[0m, in \u001b[0;36m_lazy_call\u001b[1;34m(callable, **kwargs)\u001b[0m\n\u001b[0;32m    247\u001b[0m \u001b[38;5;28;01mdef\u001b[39;00m \u001b[38;5;21m_lazy_call\u001b[39m(\u001b[38;5;28mcallable\u001b[39m, \u001b[38;5;241m*\u001b[39m\u001b[38;5;241m*\u001b[39mkwargs):\n\u001b[0;32m    248\u001b[0m     \u001b[38;5;28;01mif\u001b[39;00m is_initialized():\n\u001b[1;32m--> 249\u001b[0m         \u001b[38;5;28;43mcallable\u001b[39;49m\u001b[43m(\u001b[49m\u001b[43m)\u001b[49m\n\u001b[0;32m    250\u001b[0m     \u001b[38;5;28;01melse\u001b[39;00m:\n\u001b[0;32m    251\u001b[0m         \u001b[38;5;66;03m# TODO(torch_deploy): this accesses linecache, which attempts to read the\u001b[39;00m\n\u001b[0;32m    252\u001b[0m         \u001b[38;5;66;03m# file system to get traceback info. Patch linecache or do something\u001b[39;00m\n\u001b[0;32m    253\u001b[0m         \u001b[38;5;66;03m# else here if this ends up being important.\u001b[39;00m\n\u001b[0;32m    254\u001b[0m         \u001b[38;5;28;01mglobal\u001b[39;00m _lazy_seed_tracker\n",
      "File \u001b[1;32m~\\AppData\\Local\\Programs\\Python\\Python312\\Lib\\site-packages\\torch\\cuda\\random.py:127\u001b[0m, in \u001b[0;36mmanual_seed_all.<locals>.cb\u001b[1;34m()\u001b[0m\n\u001b[0;32m    125\u001b[0m \u001b[38;5;28;01mfor\u001b[39;00m i \u001b[38;5;129;01min\u001b[39;00m \u001b[38;5;28mrange\u001b[39m(device_count()):\n\u001b[0;32m    126\u001b[0m     default_generator \u001b[38;5;241m=\u001b[39m torch\u001b[38;5;241m.\u001b[39mcuda\u001b[38;5;241m.\u001b[39mdefault_generators[i]\n\u001b[1;32m--> 127\u001b[0m     \u001b[43mdefault_generator\u001b[49m\u001b[38;5;241;43m.\u001b[39;49m\u001b[43mmanual_seed\u001b[49m\u001b[43m(\u001b[49m\u001b[43mseed\u001b[49m\u001b[43m)\u001b[49m\n",
      "\u001b[1;31mRuntimeError\u001b[0m: CUDA error: device-side assert triggered\nCUDA kernel errors might be asynchronously reported at some other API call, so the stacktrace below might be incorrect.\nFor debugging consider passing CUDA_LAUNCH_BLOCKING=1\nCompile with `TORCH_USE_CUDA_DSA` to enable device-side assertions.\n"
     ]
    }
   ],
   "source": [
    "device = torch.device('cpu')\n",
    "\n",
    "def wierd_fun(inp):\n",
    "    ret = []\n",
    "    for el in inp:\n",
    "        if el.dim() == 0:\n",
    "            if el.item() > 0:\n",
    "                ret.append(1)\n",
    "            else:\n",
    "                ret.append(-1)\n",
    "        else:\n",
    "            return wierd_fun(el)\n",
    "    return torch.from_numpy(np.array(ret)).type(result_type).to(device)\n",
    "\n",
    "# create a KAN: 2D inputs, 1D output, and 5 hidden neurons. cubic spline (k=3), 5 grid intervals (grid=5).\n",
    "model = KAN(width=[1,1,1], grid=3, k=3, seed=2, device=device)\n",
    "f = lambda x: wierd_fun(x)\n",
    "dataset = create_dataset(f, n_var=1, device=device)\n",
    "\n",
    "# train the model\n",
    "model.fit(dataset, opt=\"LBFGS\", steps=20);"
   ]
  },
  {
   "cell_type": "code",
   "execution_count": 72,
   "id": "6b98cb77-13ff-45db-afb9-674d454f93cd",
   "metadata": {},
   "outputs": [
    {
     "data": {
      "image/png": "[encoded data removed]",
      "text/plain": [
       "<Figure size 500x400 with 5 Axes>"
      ]
     },
     "metadata": {},
     "output_type": "display_data"
    }
   ],
   "source": [
    "model.plot()"
   ]
  },
  {
   "cell_type": "code",
   "execution_count": 73,
   "id": "c438b15c-e01a-4f54-bb17-6649dd590a74",
   "metadata": {},
   "outputs": [
    {
     "name": "stdout",
     "output_type": "stream",
     "text": [
      "saving model version 0.2\n"
     ]
    },
    {
     "name": "stderr",
     "output_type": "stream",
     "text": [
      "| train_loss: 1.01e-01 | test_loss: 1.20e-01 | reg: 6.16e+00 | : 100%|█| 20/20 [00:10<00:00,  1.84it"
     ]
    },
    {
     "name": "stdout",
     "output_type": "stream",
     "text": [
      "saving model version 0.3\n"
     ]
    },
    {
     "name": "stderr",
     "output_type": "stream",
     "text": [
      "\n"
     ]
    }
   ],
   "source": [
    "model = model.refine(20) #rozszerza grid\n",
    "model.fit(dataset, opt=\"LBFGS\", steps=20);"
   ]
  },
  {
   "cell_type": "code",
   "execution_count": 74,
   "id": "0fdadd3b-5d66-491f-a872-2ba23c062819",
   "metadata": {},
   "outputs": [
    {
     "data": {
      "image/png": "[encoded data removed]",
      "text/plain": [
       "<Figure size 500x400 with 5 Axes>"
      ]
     },
     "metadata": {},
     "output_type": "display_data"
    }
   ],
   "source": [
    "model.plot()"
   ]
  },
  {
   "cell_type": "code",
   "execution_count": 79,
   "id": "1a921375-9f32-4969-9cbd-55999024644a",
   "metadata": {},
   "outputs": [
    {
     "ename": "TypeError",
     "evalue": "len() of a 0-d tensor",
     "output_type": "error",
     "traceback": [
      "\u001b[1;31m---------------------------------------------------------------------------\u001b[0m",
      "\u001b[1;31mTypeError\u001b[0m                                 Traceback (most recent call last)",
      "Cell \u001b[1;32mIn[79], line 1\u001b[0m\n\u001b[1;32m----> 1\u001b[0m \u001b[43mmodel\u001b[49m\u001b[38;5;241;43m.\u001b[39;49m\u001b[43msuggest_symbolic\u001b[49m\u001b[43m(\u001b[49m\u001b[38;5;241;43m0\u001b[39;49m\u001b[43m,\u001b[49m\u001b[38;5;241;43m0\u001b[39;49m\u001b[43m,\u001b[49m\u001b[38;5;241;43m0\u001b[39;49m\u001b[43m)\u001b[49m\n",
      "File \u001b[1;32m~\\AppData\\Local\\Programs\\Python\\Python312\\Lib\\site-packages\\kan\\MultKAN.py:2138\u001b[0m, in \u001b[0;36mMultKAN.suggest_symbolic\u001b[1;34m(self, l, i, j, a_range, b_range, lib, topk, verbose, r2_loss_fun, c_loss_fun, weight_simple)\u001b[0m\n\u001b[0;32m   2136\u001b[0m \u001b[38;5;66;03m# getting r2 and complexities\u001b[39;00m\n\u001b[0;32m   2137\u001b[0m \u001b[38;5;28;01mfor\u001b[39;00m (name, content) \u001b[38;5;129;01min\u001b[39;00m symbolic_lib\u001b[38;5;241m.\u001b[39mitems():\n\u001b[1;32m-> 2138\u001b[0m     r2 \u001b[38;5;241m=\u001b[39m \u001b[38;5;28;43mself\u001b[39;49m\u001b[38;5;241;43m.\u001b[39;49m\u001b[43mfix_symbolic\u001b[49m\u001b[43m(\u001b[49m\u001b[43ml\u001b[49m\u001b[43m,\u001b[49m\u001b[43m \u001b[49m\u001b[43mi\u001b[49m\u001b[43m,\u001b[49m\u001b[43m \u001b[49m\u001b[43mj\u001b[49m\u001b[43m,\u001b[49m\u001b[43m \u001b[49m\u001b[43mname\u001b[49m\u001b[43m,\u001b[49m\u001b[43m \u001b[49m\u001b[43ma_range\u001b[49m\u001b[38;5;241;43m=\u001b[39;49m\u001b[43ma_range\u001b[49m\u001b[43m,\u001b[49m\u001b[43m \u001b[49m\u001b[43mb_range\u001b[49m\u001b[38;5;241;43m=\u001b[39;49m\u001b[43mb_range\u001b[49m\u001b[43m,\u001b[49m\u001b[43m \u001b[49m\u001b[43mverbose\u001b[49m\u001b[38;5;241;43m=\u001b[39;49m\u001b[38;5;28;43;01mFalse\u001b[39;49;00m\u001b[43m,\u001b[49m\u001b[43m \u001b[49m\u001b[43mlog_history\u001b[49m\u001b[38;5;241;43m=\u001b[39;49m\u001b[38;5;28;43;01mFalse\u001b[39;49;00m\u001b[43m)\u001b[49m\n\u001b[0;32m   2139\u001b[0m     \u001b[38;5;28;01mif\u001b[39;00m r2 \u001b[38;5;241m==\u001b[39m \u001b[38;5;241m-\u001b[39m\u001b[38;5;241m1e8\u001b[39m: \u001b[38;5;66;03m# zero function\u001b[39;00m\n\u001b[0;32m   2140\u001b[0m         r2s\u001b[38;5;241m.\u001b[39mappend(\u001b[38;5;241m-\u001b[39m\u001b[38;5;241m1e8\u001b[39m)\n",
      "File \u001b[1;32m~\\AppData\\Local\\Programs\\Python\\Python312\\Lib\\site-packages\\kan\\MultKAN.py:951\u001b[0m, in \u001b[0;36mMultKAN.fix_symbolic\u001b[1;34m(self, l, i, j, fun_name, fit_params_bool, a_range, b_range, verbose, random, log_history)\u001b[0m\n\u001b[0;32m    949\u001b[0m y \u001b[38;5;241m=\u001b[39m \u001b[38;5;28mself\u001b[39m\u001b[38;5;241m.\u001b[39mspline_postacts[l][:, j, i]\n\u001b[0;32m    950\u001b[0m \u001b[38;5;66;03m#y = self.postacts[l][:, j, i]\u001b[39;00m\n\u001b[1;32m--> 951\u001b[0m r2 \u001b[38;5;241m=\u001b[39m \u001b[38;5;28;43mself\u001b[39;49m\u001b[38;5;241;43m.\u001b[39;49m\u001b[43msymbolic_fun\u001b[49m\u001b[43m[\u001b[49m\u001b[43ml\u001b[49m\u001b[43m]\u001b[49m\u001b[38;5;241;43m.\u001b[39;49m\u001b[43mfix_symbolic\u001b[49m\u001b[43m(\u001b[49m\u001b[43mi\u001b[49m\u001b[43m,\u001b[49m\u001b[43m \u001b[49m\u001b[43mj\u001b[49m\u001b[43m,\u001b[49m\u001b[43m \u001b[49m\u001b[43mfun_name\u001b[49m\u001b[43m,\u001b[49m\u001b[43m \u001b[49m\u001b[43mx\u001b[49m\u001b[43m,\u001b[49m\u001b[43m \u001b[49m\u001b[43my\u001b[49m\u001b[43m,\u001b[49m\u001b[43m \u001b[49m\u001b[43ma_range\u001b[49m\u001b[38;5;241;43m=\u001b[39;49m\u001b[43ma_range\u001b[49m\u001b[43m,\u001b[49m\u001b[43m \u001b[49m\u001b[43mb_range\u001b[49m\u001b[38;5;241;43m=\u001b[39;49m\u001b[43mb_range\u001b[49m\u001b[43m,\u001b[49m\u001b[43m \u001b[49m\u001b[43mverbose\u001b[49m\u001b[38;5;241;43m=\u001b[39;49m\u001b[43mverbose\u001b[49m\u001b[43m)\u001b[49m\n\u001b[0;32m    952\u001b[0m \u001b[38;5;28;01mif\u001b[39;00m mask[i,j] \u001b[38;5;241m==\u001b[39m \u001b[38;5;241m0\u001b[39m:\n\u001b[0;32m    953\u001b[0m     r2 \u001b[38;5;241m=\u001b[39m \u001b[38;5;241m-\u001b[39m \u001b[38;5;241m1e8\u001b[39m\n",
      "File \u001b[1;32m~\\AppData\\Local\\Programs\\Python\\Python312\\Lib\\site-packages\\kan\\Symbolic_KANLayer.py:225\u001b[0m, in \u001b[0;36mSymbolic_KANLayer.fix_symbolic\u001b[1;34m(self, i, j, fun_name, x, y, random, a_range, b_range, verbose)\u001b[0m\n\u001b[0;32m    222\u001b[0m     \u001b[38;5;28;01mreturn\u001b[39;00m \u001b[38;5;28;01mNone\u001b[39;00m\n\u001b[0;32m    223\u001b[0m \u001b[38;5;28;01melse\u001b[39;00m:\n\u001b[0;32m    224\u001b[0m     \u001b[38;5;66;03m#initialize from x & y and fun\u001b[39;00m\n\u001b[1;32m--> 225\u001b[0m     params, r2 \u001b[38;5;241m=\u001b[39m \u001b[43mfit_params\u001b[49m\u001b[43m(\u001b[49m\u001b[43mx\u001b[49m\u001b[43m,\u001b[49m\u001b[43my\u001b[49m\u001b[43m,\u001b[49m\u001b[43mfun\u001b[49m\u001b[43m,\u001b[49m\u001b[43m \u001b[49m\u001b[43ma_range\u001b[49m\u001b[38;5;241;43m=\u001b[39;49m\u001b[43ma_range\u001b[49m\u001b[43m,\u001b[49m\u001b[43m \u001b[49m\u001b[43mb_range\u001b[49m\u001b[38;5;241;43m=\u001b[39;49m\u001b[43mb_range\u001b[49m\u001b[43m,\u001b[49m\u001b[43m \u001b[49m\u001b[43mverbose\u001b[49m\u001b[38;5;241;43m=\u001b[39;49m\u001b[43mverbose\u001b[49m\u001b[43m,\u001b[49m\u001b[43m \u001b[49m\u001b[43mdevice\u001b[49m\u001b[38;5;241;43m=\u001b[39;49m\u001b[38;5;28;43mself\u001b[39;49m\u001b[38;5;241;43m.\u001b[39;49m\u001b[43mdevice\u001b[49m\u001b[43m)\u001b[49m\n\u001b[0;32m    226\u001b[0m     \u001b[38;5;28mself\u001b[39m\u001b[38;5;241m.\u001b[39mfuns[j][i] \u001b[38;5;241m=\u001b[39m fun\n\u001b[0;32m    227\u001b[0m     \u001b[38;5;28mself\u001b[39m\u001b[38;5;241m.\u001b[39mfuns_avoid_singularity[j][i] \u001b[38;5;241m=\u001b[39m fun_avoid_singularity\n",
      "File \u001b[1;32m~\\AppData\\Local\\Programs\\Python\\Python312\\Lib\\site-packages\\kan\\utils.py:222\u001b[0m, in \u001b[0;36mfit_params\u001b[1;34m(x, y, fun, a_range, b_range, grid_number, iteration, verbose, device)\u001b[0m\n\u001b[0;32m    220\u001b[0m b_ \u001b[38;5;241m=\u001b[39m torch\u001b[38;5;241m.\u001b[39mlinspace(b_range[\u001b[38;5;241m0\u001b[39m], b_range[\u001b[38;5;241m1\u001b[39m], steps\u001b[38;5;241m=\u001b[39mgrid_number, device\u001b[38;5;241m=\u001b[39mdevice)\n\u001b[0;32m    221\u001b[0m a_grid, b_grid \u001b[38;5;241m=\u001b[39m torch\u001b[38;5;241m.\u001b[39mmeshgrid(a_, b_, indexing\u001b[38;5;241m=\u001b[39m\u001b[38;5;124m'\u001b[39m\u001b[38;5;124mij\u001b[39m\u001b[38;5;124m'\u001b[39m)\n\u001b[1;32m--> 222\u001b[0m post_fun \u001b[38;5;241m=\u001b[39m \u001b[43mfun\u001b[49m\u001b[43m(\u001b[49m\u001b[43ma_grid\u001b[49m\u001b[43m[\u001b[49m\u001b[38;5;28;43;01mNone\u001b[39;49;00m\u001b[43m,\u001b[49m\u001b[43m:\u001b[49m\u001b[43m,\u001b[49m\u001b[43m:\u001b[49m\u001b[43m]\u001b[49m\u001b[43m \u001b[49m\u001b[38;5;241;43m*\u001b[39;49m\u001b[43m \u001b[49m\u001b[43mx\u001b[49m\u001b[43m[\u001b[49m\u001b[43m:\u001b[49m\u001b[43m,\u001b[49m\u001b[38;5;28;43;01mNone\u001b[39;49;00m\u001b[43m,\u001b[49m\u001b[38;5;28;43;01mNone\u001b[39;49;00m\u001b[43m]\u001b[49m\u001b[43m \u001b[49m\u001b[38;5;241;43m+\u001b[39;49m\u001b[43m \u001b[49m\u001b[43mb_grid\u001b[49m\u001b[43m[\u001b[49m\u001b[38;5;28;43;01mNone\u001b[39;49;00m\u001b[43m,\u001b[49m\u001b[43m:\u001b[49m\u001b[43m,\u001b[49m\u001b[43m:\u001b[49m\u001b[43m]\u001b[49m\u001b[43m)\u001b[49m\n\u001b[0;32m    223\u001b[0m x_mean \u001b[38;5;241m=\u001b[39m torch\u001b[38;5;241m.\u001b[39mmean(post_fun, dim\u001b[38;5;241m=\u001b[39m[\u001b[38;5;241m0\u001b[39m], keepdim\u001b[38;5;241m=\u001b[39m\u001b[38;5;28;01mTrue\u001b[39;00m)\n\u001b[0;32m    224\u001b[0m y_mean \u001b[38;5;241m=\u001b[39m torch\u001b[38;5;241m.\u001b[39mmean(y, dim\u001b[38;5;241m=\u001b[39m[\u001b[38;5;241m0\u001b[39m], keepdim\u001b[38;5;241m=\u001b[39m\u001b[38;5;28;01mTrue\u001b[39;00m)\n",
      "Cell \u001b[1;32mIn[71], line 10\u001b[0m, in \u001b[0;36mwierd_fun\u001b[1;34m(inp)\u001b[0m\n\u001b[0;32m      8\u001b[0m             ret\u001b[38;5;241m.\u001b[39mappend(\u001b[38;5;241m-\u001b[39m\u001b[38;5;241m1\u001b[39m)\n\u001b[0;32m      9\u001b[0m     \u001b[38;5;28;01melse\u001b[39;00m:\n\u001b[1;32m---> 10\u001b[0m         \u001b[38;5;28;01mreturn\u001b[39;00m \u001b[43mwierd_fun\u001b[49m\u001b[43m(\u001b[49m\u001b[43mel\u001b[49m\u001b[43m)\u001b[49m\n\u001b[0;32m     11\u001b[0m \u001b[38;5;28;01mreturn\u001b[39;00m torch\u001b[38;5;241m.\u001b[39mfrom_numpy(np\u001b[38;5;241m.\u001b[39marray(ret))\u001b[38;5;241m.\u001b[39mtype(result_type)\u001b[38;5;241m.\u001b[39mto(device)\n",
      "Cell \u001b[1;32mIn[71], line 10\u001b[0m, in \u001b[0;36mwierd_fun\u001b[1;34m(inp)\u001b[0m\n\u001b[0;32m      8\u001b[0m             ret\u001b[38;5;241m.\u001b[39mappend(\u001b[38;5;241m-\u001b[39m\u001b[38;5;241m1\u001b[39m)\n\u001b[0;32m      9\u001b[0m     \u001b[38;5;28;01melse\u001b[39;00m:\n\u001b[1;32m---> 10\u001b[0m         \u001b[38;5;28;01mreturn\u001b[39;00m \u001b[43mwierd_fun\u001b[49m\u001b[43m(\u001b[49m\u001b[43mel\u001b[49m\u001b[43m)\u001b[49m\n\u001b[0;32m     11\u001b[0m \u001b[38;5;28;01mreturn\u001b[39;00m torch\u001b[38;5;241m.\u001b[39mfrom_numpy(np\u001b[38;5;241m.\u001b[39marray(ret))\u001b[38;5;241m.\u001b[39mtype(result_type)\u001b[38;5;241m.\u001b[39mto(device)\n",
      "Cell \u001b[1;32mIn[71], line 4\u001b[0m, in \u001b[0;36mwierd_fun\u001b[1;34m(inp)\u001b[0m\n\u001b[0;32m      2\u001b[0m ret \u001b[38;5;241m=\u001b[39m []\n\u001b[0;32m      3\u001b[0m \u001b[38;5;28;01mfor\u001b[39;00m el \u001b[38;5;129;01min\u001b[39;00m inp:\n\u001b[1;32m----> 4\u001b[0m     \u001b[38;5;28;01mif\u001b[39;00m \u001b[38;5;28;43mlen\u001b[39;49m\u001b[43m(\u001b[49m\u001b[43mel\u001b[49m\u001b[43m)\u001b[49m \u001b[38;5;241m==\u001b[39m \u001b[38;5;241m1\u001b[39m:\n\u001b[0;32m      5\u001b[0m         \u001b[38;5;28;01mif\u001b[39;00m el\u001b[38;5;241m.\u001b[39mitem() \u001b[38;5;241m>\u001b[39m \u001b[38;5;241m0\u001b[39m:\n\u001b[0;32m      6\u001b[0m             ret\u001b[38;5;241m.\u001b[39mappend(\u001b[38;5;241m1\u001b[39m)\n",
      "File \u001b[1;32m~\\AppData\\Local\\Programs\\Python\\Python312\\Lib\\site-packages\\torch\\_tensor.py:1087\u001b[0m, in \u001b[0;36mTensor.__len__\u001b[1;34m(self)\u001b[0m\n\u001b[0;32m   1085\u001b[0m     \u001b[38;5;28;01mreturn\u001b[39;00m handle_torch_function(Tensor\u001b[38;5;241m.\u001b[39m\u001b[38;5;21m__len__\u001b[39m, (\u001b[38;5;28mself\u001b[39m,), \u001b[38;5;28mself\u001b[39m)\n\u001b[0;32m   1086\u001b[0m \u001b[38;5;28;01mif\u001b[39;00m \u001b[38;5;28mself\u001b[39m\u001b[38;5;241m.\u001b[39mdim() \u001b[38;5;241m==\u001b[39m \u001b[38;5;241m0\u001b[39m:\n\u001b[1;32m-> 1087\u001b[0m     \u001b[38;5;28;01mraise\u001b[39;00m \u001b[38;5;167;01mTypeError\u001b[39;00m(\u001b[38;5;124m\"\u001b[39m\u001b[38;5;124mlen() of a 0-d tensor\u001b[39m\u001b[38;5;124m\"\u001b[39m)\n\u001b[0;32m   1088\u001b[0m \u001b[38;5;28;01mif\u001b[39;00m torch\u001b[38;5;241m.\u001b[39m_C\u001b[38;5;241m.\u001b[39m_get_tracing_state():\n\u001b[0;32m   1089\u001b[0m     warnings\u001b[38;5;241m.\u001b[39mwarn(\n\u001b[0;32m   1090\u001b[0m         \u001b[38;5;124m\"\u001b[39m\u001b[38;5;124mUsing len to get tensor shape might cause the trace to be incorrect. \u001b[39m\u001b[38;5;124m\"\u001b[39m\n\u001b[0;32m   1091\u001b[0m         \u001b[38;5;124m\"\u001b[39m\u001b[38;5;124mRecommended usage would be tensor.shape[0]. \u001b[39m\u001b[38;5;124m\"\u001b[39m\n\u001b[1;32m   (...)\u001b[0m\n\u001b[0;32m   1095\u001b[0m         stacklevel\u001b[38;5;241m=\u001b[39m\u001b[38;5;241m2\u001b[39m,\n\u001b[0;32m   1096\u001b[0m     )\n",
      "\u001b[1;31mTypeError\u001b[0m: len() of a 0-d tensor"
     ]
    }
   ],
   "source": [
    "model.suggest_symbolic(0,0,0)"
   ]
  },
  {
   "cell_type": "code",
   "execution_count": 3,
   "id": "5d6a6057-633f-44a0-b8cc-dee1180d2017",
   "metadata": {},
   "outputs": [
    {
     "data": {
      "text/plain": [
       "dict_keys(['x', 'x^2', 'x^3', 'x^4', 'x^5', '1/x', '1/x^2', '1/x^3', '1/x^4', '1/x^5', 'sqrt', 'x^0.5', 'x^1.5', '1/sqrt(x)', '1/x^0.5', 'exp', 'log', 'abs', 'sin', 'cos', 'tan', 'tanh', 'sgn', 'arcsin', 'arccos', 'arctan', 'arctanh', '0', 'gaussian'])"
      ]
     },
     "execution_count": 3,
     "metadata": {},
     "output_type": "execute_result"
    }
   ],
   "source": [
    "SYMBOLIC_LIB.keys()"
   ]
  },
  {
   "cell_type": "code",
   "execution_count": 77,
   "id": "9225cbca-24ce-4811-847e-f27c749a0dd3",
   "metadata": {},
   "outputs": [],
   "source": [
    "add_symbolic('WF', wierd_fun, c=1)"
   ]
  },
  {
   "cell_type": "code",
   "execution_count": 70,
   "id": "7d33154d-f7fd-4e66-810a-554eb58b7da7",
   "metadata": {},
   "outputs": [
    {
     "ename": "RuntimeError",
     "evalue": "a Tensor with 10201 elements cannot be converted to Scalar",
     "output_type": "error",
     "traceback": [
      "\u001b[1;31m---------------------------------------------------------------------------\u001b[0m",
      "\u001b[1;31mRuntimeError\u001b[0m                              Traceback (most recent call last)",
      "Cell \u001b[1;32mIn[70], line 1\u001b[0m\n\u001b[1;32m----> 1\u001b[0m \u001b[43mmodel\u001b[49m\u001b[38;5;241;43m.\u001b[39;49m\u001b[43msuggest_symbolic\u001b[49m\u001b[43m(\u001b[49m\u001b[38;5;241;43m0\u001b[39;49m\u001b[43m,\u001b[49m\u001b[38;5;241;43m0\u001b[39;49m\u001b[43m,\u001b[49m\u001b[38;5;241;43m0\u001b[39;49m\u001b[43m)\u001b[49m\n",
      "File \u001b[1;32m~\\AppData\\Local\\Programs\\Python\\Python312\\Lib\\site-packages\\kan\\MultKAN.py:2138\u001b[0m, in \u001b[0;36mMultKAN.suggest_symbolic\u001b[1;34m(self, l, i, j, a_range, b_range, lib, topk, verbose, r2_loss_fun, c_loss_fun, weight_simple)\u001b[0m\n\u001b[0;32m   2136\u001b[0m \u001b[38;5;66;03m# getting r2 and complexities\u001b[39;00m\n\u001b[0;32m   2137\u001b[0m \u001b[38;5;28;01mfor\u001b[39;00m (name, content) \u001b[38;5;129;01min\u001b[39;00m symbolic_lib\u001b[38;5;241m.\u001b[39mitems():\n\u001b[1;32m-> 2138\u001b[0m     r2 \u001b[38;5;241m=\u001b[39m \u001b[38;5;28;43mself\u001b[39;49m\u001b[38;5;241;43m.\u001b[39;49m\u001b[43mfix_symbolic\u001b[49m\u001b[43m(\u001b[49m\u001b[43ml\u001b[49m\u001b[43m,\u001b[49m\u001b[43m \u001b[49m\u001b[43mi\u001b[49m\u001b[43m,\u001b[49m\u001b[43m \u001b[49m\u001b[43mj\u001b[49m\u001b[43m,\u001b[49m\u001b[43m \u001b[49m\u001b[43mname\u001b[49m\u001b[43m,\u001b[49m\u001b[43m \u001b[49m\u001b[43ma_range\u001b[49m\u001b[38;5;241;43m=\u001b[39;49m\u001b[43ma_range\u001b[49m\u001b[43m,\u001b[49m\u001b[43m \u001b[49m\u001b[43mb_range\u001b[49m\u001b[38;5;241;43m=\u001b[39;49m\u001b[43mb_range\u001b[49m\u001b[43m,\u001b[49m\u001b[43m \u001b[49m\u001b[43mverbose\u001b[49m\u001b[38;5;241;43m=\u001b[39;49m\u001b[38;5;28;43;01mFalse\u001b[39;49;00m\u001b[43m,\u001b[49m\u001b[43m \u001b[49m\u001b[43mlog_history\u001b[49m\u001b[38;5;241;43m=\u001b[39;49m\u001b[38;5;28;43;01mFalse\u001b[39;49;00m\u001b[43m)\u001b[49m\n\u001b[0;32m   2139\u001b[0m     \u001b[38;5;28;01mif\u001b[39;00m r2 \u001b[38;5;241m==\u001b[39m \u001b[38;5;241m-\u001b[39m\u001b[38;5;241m1e8\u001b[39m: \u001b[38;5;66;03m# zero function\u001b[39;00m\n\u001b[0;32m   2140\u001b[0m         r2s\u001b[38;5;241m.\u001b[39mappend(\u001b[38;5;241m-\u001b[39m\u001b[38;5;241m1e8\u001b[39m)\n",
      "File \u001b[1;32m~\\AppData\\Local\\Programs\\Python\\Python312\\Lib\\site-packages\\kan\\MultKAN.py:951\u001b[0m, in \u001b[0;36mMultKAN.fix_symbolic\u001b[1;34m(self, l, i, j, fun_name, fit_params_bool, a_range, b_range, verbose, random, log_history)\u001b[0m\n\u001b[0;32m    949\u001b[0m y \u001b[38;5;241m=\u001b[39m \u001b[38;5;28mself\u001b[39m\u001b[38;5;241m.\u001b[39mspline_postacts[l][:, j, i]\n\u001b[0;32m    950\u001b[0m \u001b[38;5;66;03m#y = self.postacts[l][:, j, i]\u001b[39;00m\n\u001b[1;32m--> 951\u001b[0m r2 \u001b[38;5;241m=\u001b[39m \u001b[38;5;28;43mself\u001b[39;49m\u001b[38;5;241;43m.\u001b[39;49m\u001b[43msymbolic_fun\u001b[49m\u001b[43m[\u001b[49m\u001b[43ml\u001b[49m\u001b[43m]\u001b[49m\u001b[38;5;241;43m.\u001b[39;49m\u001b[43mfix_symbolic\u001b[49m\u001b[43m(\u001b[49m\u001b[43mi\u001b[49m\u001b[43m,\u001b[49m\u001b[43m \u001b[49m\u001b[43mj\u001b[49m\u001b[43m,\u001b[49m\u001b[43m \u001b[49m\u001b[43mfun_name\u001b[49m\u001b[43m,\u001b[49m\u001b[43m \u001b[49m\u001b[43mx\u001b[49m\u001b[43m,\u001b[49m\u001b[43m \u001b[49m\u001b[43my\u001b[49m\u001b[43m,\u001b[49m\u001b[43m \u001b[49m\u001b[43ma_range\u001b[49m\u001b[38;5;241;43m=\u001b[39;49m\u001b[43ma_range\u001b[49m\u001b[43m,\u001b[49m\u001b[43m \u001b[49m\u001b[43mb_range\u001b[49m\u001b[38;5;241;43m=\u001b[39;49m\u001b[43mb_range\u001b[49m\u001b[43m,\u001b[49m\u001b[43m \u001b[49m\u001b[43mverbose\u001b[49m\u001b[38;5;241;43m=\u001b[39;49m\u001b[43mverbose\u001b[49m\u001b[43m)\u001b[49m\n\u001b[0;32m    952\u001b[0m \u001b[38;5;28;01mif\u001b[39;00m mask[i,j] \u001b[38;5;241m==\u001b[39m \u001b[38;5;241m0\u001b[39m:\n\u001b[0;32m    953\u001b[0m     r2 \u001b[38;5;241m=\u001b[39m \u001b[38;5;241m-\u001b[39m \u001b[38;5;241m1e8\u001b[39m\n",
      "File \u001b[1;32m~\\AppData\\Local\\Programs\\Python\\Python312\\Lib\\site-packages\\kan\\Symbolic_KANLayer.py:225\u001b[0m, in \u001b[0;36mSymbolic_KANLayer.fix_symbolic\u001b[1;34m(self, i, j, fun_name, x, y, random, a_range, b_range, verbose)\u001b[0m\n\u001b[0;32m    222\u001b[0m     \u001b[38;5;28;01mreturn\u001b[39;00m \u001b[38;5;28;01mNone\u001b[39;00m\n\u001b[0;32m    223\u001b[0m \u001b[38;5;28;01melse\u001b[39;00m:\n\u001b[0;32m    224\u001b[0m     \u001b[38;5;66;03m#initialize from x & y and fun\u001b[39;00m\n\u001b[1;32m--> 225\u001b[0m     params, r2 \u001b[38;5;241m=\u001b[39m \u001b[43mfit_params\u001b[49m\u001b[43m(\u001b[49m\u001b[43mx\u001b[49m\u001b[43m,\u001b[49m\u001b[43my\u001b[49m\u001b[43m,\u001b[49m\u001b[43mfun\u001b[49m\u001b[43m,\u001b[49m\u001b[43m \u001b[49m\u001b[43ma_range\u001b[49m\u001b[38;5;241;43m=\u001b[39;49m\u001b[43ma_range\u001b[49m\u001b[43m,\u001b[49m\u001b[43m \u001b[49m\u001b[43mb_range\u001b[49m\u001b[38;5;241;43m=\u001b[39;49m\u001b[43mb_range\u001b[49m\u001b[43m,\u001b[49m\u001b[43m \u001b[49m\u001b[43mverbose\u001b[49m\u001b[38;5;241;43m=\u001b[39;49m\u001b[43mverbose\u001b[49m\u001b[43m,\u001b[49m\u001b[43m \u001b[49m\u001b[43mdevice\u001b[49m\u001b[38;5;241;43m=\u001b[39;49m\u001b[38;5;28;43mself\u001b[39;49m\u001b[38;5;241;43m.\u001b[39;49m\u001b[43mdevice\u001b[49m\u001b[43m)\u001b[49m\n\u001b[0;32m    226\u001b[0m     \u001b[38;5;28mself\u001b[39m\u001b[38;5;241m.\u001b[39mfuns[j][i] \u001b[38;5;241m=\u001b[39m fun\n\u001b[0;32m    227\u001b[0m     \u001b[38;5;28mself\u001b[39m\u001b[38;5;241m.\u001b[39mfuns_avoid_singularity[j][i] \u001b[38;5;241m=\u001b[39m fun_avoid_singularity\n",
      "File \u001b[1;32m~\\AppData\\Local\\Programs\\Python\\Python312\\Lib\\site-packages\\kan\\utils.py:222\u001b[0m, in \u001b[0;36mfit_params\u001b[1;34m(x, y, fun, a_range, b_range, grid_number, iteration, verbose, device)\u001b[0m\n\u001b[0;32m    220\u001b[0m b_ \u001b[38;5;241m=\u001b[39m torch\u001b[38;5;241m.\u001b[39mlinspace(b_range[\u001b[38;5;241m0\u001b[39m], b_range[\u001b[38;5;241m1\u001b[39m], steps\u001b[38;5;241m=\u001b[39mgrid_number, device\u001b[38;5;241m=\u001b[39mdevice)\n\u001b[0;32m    221\u001b[0m a_grid, b_grid \u001b[38;5;241m=\u001b[39m torch\u001b[38;5;241m.\u001b[39mmeshgrid(a_, b_, indexing\u001b[38;5;241m=\u001b[39m\u001b[38;5;124m'\u001b[39m\u001b[38;5;124mij\u001b[39m\u001b[38;5;124m'\u001b[39m)\n\u001b[1;32m--> 222\u001b[0m post_fun \u001b[38;5;241m=\u001b[39m \u001b[43mfun\u001b[49m\u001b[43m(\u001b[49m\u001b[43ma_grid\u001b[49m\u001b[43m[\u001b[49m\u001b[38;5;28;43;01mNone\u001b[39;49;00m\u001b[43m,\u001b[49m\u001b[43m:\u001b[49m\u001b[43m,\u001b[49m\u001b[43m:\u001b[49m\u001b[43m]\u001b[49m\u001b[43m \u001b[49m\u001b[38;5;241;43m*\u001b[39;49m\u001b[43m \u001b[49m\u001b[43mx\u001b[49m\u001b[43m[\u001b[49m\u001b[43m:\u001b[49m\u001b[43m,\u001b[49m\u001b[38;5;28;43;01mNone\u001b[39;49;00m\u001b[43m,\u001b[49m\u001b[38;5;28;43;01mNone\u001b[39;49;00m\u001b[43m]\u001b[49m\u001b[43m \u001b[49m\u001b[38;5;241;43m+\u001b[39;49m\u001b[43m \u001b[49m\u001b[43mb_grid\u001b[49m\u001b[43m[\u001b[49m\u001b[38;5;28;43;01mNone\u001b[39;49;00m\u001b[43m,\u001b[49m\u001b[43m:\u001b[49m\u001b[43m,\u001b[49m\u001b[43m:\u001b[49m\u001b[43m]\u001b[49m\u001b[43m)\u001b[49m\n\u001b[0;32m    223\u001b[0m x_mean \u001b[38;5;241m=\u001b[39m torch\u001b[38;5;241m.\u001b[39mmean(post_fun, dim\u001b[38;5;241m=\u001b[39m[\u001b[38;5;241m0\u001b[39m], keepdim\u001b[38;5;241m=\u001b[39m\u001b[38;5;28;01mTrue\u001b[39;00m)\n\u001b[0;32m    224\u001b[0m y_mean \u001b[38;5;241m=\u001b[39m torch\u001b[38;5;241m.\u001b[39mmean(y, dim\u001b[38;5;241m=\u001b[39m[\u001b[38;5;241m0\u001b[39m], keepdim\u001b[38;5;241m=\u001b[39m\u001b[38;5;28;01mTrue\u001b[39;00m)\n",
      "Cell \u001b[1;32mIn[52], line 4\u001b[0m, in \u001b[0;36mwierd_fun\u001b[1;34m(inp)\u001b[0m\n\u001b[0;32m      2\u001b[0m ret \u001b[38;5;241m=\u001b[39m []\n\u001b[0;32m      3\u001b[0m \u001b[38;5;28;01mfor\u001b[39;00m el \u001b[38;5;129;01min\u001b[39;00m inp:\n\u001b[1;32m----> 4\u001b[0m     \u001b[38;5;28;01mif\u001b[39;00m \u001b[43mel\u001b[49m\u001b[38;5;241;43m.\u001b[39;49m\u001b[43mitem\u001b[49m\u001b[43m(\u001b[49m\u001b[43m)\u001b[49m \u001b[38;5;241m>\u001b[39m \u001b[38;5;241m0\u001b[39m:\n\u001b[0;32m      5\u001b[0m         ret\u001b[38;5;241m.\u001b[39mappend(\u001b[38;5;241m1\u001b[39m)\n\u001b[0;32m      6\u001b[0m     \u001b[38;5;28;01melse\u001b[39;00m:\n",
      "\u001b[1;31mRuntimeError\u001b[0m: a Tensor with 10201 elements cannot be converted to Scalar"
     ]
    }
   ],
   "source": [
    "model.suggest_symbolic(0,0,0)"
   ]
  },
  {
   "cell_type": "code",
   "execution_count": 46,
   "id": "084a2338-5232-45c7-b12f-d8fedda48538",
   "metadata": {},
   "outputs": [
    {
     "name": "stdout",
     "output_type": "stream",
     "text": [
      "  function  fitting r2   r2 loss  complexity  complexity loss  total loss\n",
      "0       J0    0.998909 -9.827278           1                1   -1.165456\n",
      "1        0    0.000000  0.000014           0                0    0.000003\n",
      "2        x    0.001524 -0.002185           1                1    0.799563\n",
      "3      cos    0.585159 -1.269334           2                2    1.346133\n",
      "4      sin    0.585159 -1.269333           2                2    1.346133\n"
     ]
    },
    {
     "data": {
      "text/plain": [
       "('J0',\n",
       " (<function torch._C._special.special_bessel_j0>,\n",
       "  J0,\n",
       "  1,\n",
       "  <function torch._C._special.special_bessel_j0>),\n",
       " 0.9989092350006104,\n",
       " 1)"
      ]
     },
     "execution_count": 46,
     "metadata": {},
     "output_type": "execute_result"
    }
   ],
   "source": [
    "model.suggest_symbolic(0,0,0,a_range=(-40,40))"
   ]
  }
 ],
 "metadata": {
  "kernelspec": {
   "display_name": "Python 3 (ipykernel)",
   "language": "python",
   "name": "python3"
  },
  "language_info": {
   "codemirror_mode": {
    "name": "ipython",
    "version": 3
   },
   "file_extension": ".py",
   "mimetype": "text/x-python",
   "name": "python",
   "nbconvert_exporter": "python",
   "pygments_lexer": "ipython3",
   "version": "3.12.7"
  }
 },
 "nbformat": 4,
 "nbformat_minor": 5
}
