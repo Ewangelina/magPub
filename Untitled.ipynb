{
 "cells": [
  {
   "cell_type": "code",
   "execution_count": 6,
   "id": "e23a5603-b56e-475c-8d5d-9ddb41aacff2",
   "metadata": {},
   "outputs": [],
   "source": [
    "import sklearn\n",
    "from kan import *\n",
    "import matplotlib.pyplot as plt\n",
    "import numpy as np\n",
    "from collections import Counter\n",
    "from sklearn.datasets import load_breast_cancer, load_wine, load_iris\n",
    "\n",
    "PATIENCE_VALUE = 3\n",
    "\n",
    "device = torch.device('cuda' if torch.cuda.is_available() else 'cpu')\n",
    "dtype = torch.get_default_dtype()\n",
    "result_type = torch.long\n",
    "\n",
    "def processDataset(data): #sklearn.datasets data\n",
    "    y = data.target\n",
    "    X = data.data\n",
    "    X = sklearn.preprocessing.normalize(X)\n",
    "    X_train, X_test, y_train, y_test = sklearn.model_selection.train_test_split(X, y, test_size=0.33) #random_state=7\n",
    "    dataset = {}\n",
    "    dataset['train_input'] = torch.from_numpy(np.array(X_train)).type(dtype).to(device)\n",
    "    dataset['test_input'] = torch.from_numpy(np.array(X_test)).type(dtype).to(device)\n",
    "    dataset['train_label'] = torch.from_numpy(np.array(y_train)).type(result_type).to(device)\n",
    "    dataset['test_label'] = torch.from_numpy(np.array(y_test)).type(result_type).to(device)\n",
    "    return dataset\n",
    "\n",
    "def trainKAN(dataset, steps, KAN_width, KAN_grid, KAN_degree, KAN_lambda, last_best_acc=0, model=None):\n",
    "    def train_acc():\n",
    "        return torch.mean((torch.argmax(model(dataset['train_input']), dim=1) == dataset['train_label']).type(dtype))\n",
    "\n",
    "    def test_acc():\n",
    "        return torch.mean((torch.argmax(model(dataset['test_input']), dim=1) == dataset['test_label']).type(dtype))\n",
    "\n",
    "    if model is None:\n",
    "        model = KAN(width=KAN_width, grid=KAN_grid, k=KAN_degree, device=device)\n",
    "\n",
    "    final_results = {}\n",
    "    final_results['train_acc'] = []\n",
    "    final_results['test_acc'] = []\n",
    "    best_test_acc = last_best_acc\n",
    "    patience = PATIENCE_VALUE\n",
    "    for i in range(steps):\n",
    "        fit_results = model.fit(dataset, opt='LBFGS', steps=1, lamb=KAN_lambda, metrics=(train_acc, test_acc), loss_fn=torch.nn.CrossEntropyLoss())\n",
    "        final_results['train_acc'].append(fit_results['train_acc'][0])\n",
    "        final_results['test_acc'].append(fit_results['test_acc'][0])\n",
    "        if fit_results['test_acc'][0] < best_test_acc:\n",
    "            if patience == 0:\n",
    "                return model, final_results, best_test_acc\n",
    "            else:\n",
    "                patience -= 1\n",
    "        else:\n",
    "            patience = PATIENCE_VALUE\n",
    "            best_test_acc = fit_results['test_acc'][0]\n",
    "\n",
    "    return model, final_results, best_test_acc\n",
    "\n",
    "data = load_iris()\n",
    "dataset = processDataset(data)\n"
   ]
  },
  {
   "cell_type": "code",
   "execution_count": 7,
   "id": "7e62074d-0e90-4a5e-81f1-1e8a4087f136",
   "metadata": {},
   "outputs": [],
   "source": [
    "in_dim = len(data.feature_names)\n",
    "out_dim = len(data.target_names)"
   ]
  },
  {
   "cell_type": "code",
   "execution_count": 8,
   "id": "685093c2-1ffa-4ea7-be88-29649e466057",
   "metadata": {},
   "outputs": [
    {
     "name": "stdout",
     "output_type": "stream",
     "text": [
      "checkpoint directory created: ./model\n",
      "saving model version 0.0\n"
     ]
    },
    {
     "name": "stderr",
     "output_type": "stream",
     "text": [
      "| train_loss: 7.90e-01 | test_loss: 8.19e-01 | reg: 3.02e+01 | : 100%|█| 1/1 [00:04<00:00,  4.50s/it\n"
     ]
    },
    {
     "name": "stdout",
     "output_type": "stream",
     "text": [
      "saving model version 0.1\n"
     ]
    },
    {
     "name": "stderr",
     "output_type": "stream",
     "text": [
      "| train_loss: 7.23e-01 | test_loss: 7.59e-01 | reg: 3.02e+01 | : 100%|█| 1/1 [00:00<00:00,  1.29it/s\n"
     ]
    },
    {
     "name": "stdout",
     "output_type": "stream",
     "text": [
      "saving model version 0.2\n"
     ]
    },
    {
     "name": "stderr",
     "output_type": "stream",
     "text": [
      "| train_loss: 7.01e-01 | test_loss: 7.37e-01 | reg: 3.20e+01 | : 100%|█| 1/1 [00:00<00:00,  1.28it/s\n"
     ]
    },
    {
     "name": "stdout",
     "output_type": "stream",
     "text": [
      "saving model version 0.3\n",
      "[0.7299999594688416, 0.9899999499320984, 0.9799999594688416]\n",
      "[0.7599999904632568, 0.9199999570846558, 0.9199999570846558]\n"
     ]
    },
    {
     "name": "stderr",
     "output_type": "stream",
     "text": [
      "| train_loss: 6.83e-01 | test_loss: 7.25e-01 | reg: 3.26e+01 | : 100%|█| 1/1 [00:00<00:00,  1.26it/s\n"
     ]
    },
    {
     "name": "stdout",
     "output_type": "stream",
     "text": [
      "saving model version 0.4\n"
     ]
    },
    {
     "name": "stderr",
     "output_type": "stream",
     "text": [
      "| train_loss: 6.69e-01 | test_loss: 7.10e-01 | reg: 3.31e+01 | : 100%|█| 1/1 [00:00<00:00,  1.23it/s\n"
     ]
    },
    {
     "name": "stdout",
     "output_type": "stream",
     "text": [
      "saving model version 0.5\n"
     ]
    },
    {
     "name": "stderr",
     "output_type": "stream",
     "text": [
      "| train_loss: 6.49e-01 | test_loss: 7.07e-01 | reg: 3.46e+01 | : 100%|█| 1/1 [00:00<00:00,  1.09it/s\n"
     ]
    },
    {
     "name": "stdout",
     "output_type": "stream",
     "text": [
      "saving model version 0.6\n"
     ]
    },
    {
     "name": "stderr",
     "output_type": "stream",
     "text": [
      "| train_loss: 6.23e-01 | test_loss: 6.68e-01 | reg: 3.55e+01 | : 100%|█| 1/1 [00:00<00:00,  1.11it/s\n"
     ]
    },
    {
     "name": "stdout",
     "output_type": "stream",
     "text": [
      "saving model version 0.7\n"
     ]
    },
    {
     "name": "stderr",
     "output_type": "stream",
     "text": [
      "| train_loss: 6.05e-01 | test_loss: 6.59e-01 | reg: 3.69e+01 | : 100%|█| 1/1 [00:00<00:00,  1.31it/s\n"
     ]
    },
    {
     "name": "stdout",
     "output_type": "stream",
     "text": [
      "saving model version 0.8\n"
     ]
    },
    {
     "name": "stderr",
     "output_type": "stream",
     "text": [
      "| train_loss: 5.88e-01 | test_loss: 6.39e-01 | reg: 3.80e+01 | : 100%|█| 1/1 [00:00<00:00,  1.16it/s\n"
     ]
    },
    {
     "name": "stdout",
     "output_type": "stream",
     "text": [
      "saving model version 0.9\n"
     ]
    },
    {
     "name": "stderr",
     "output_type": "stream",
     "text": [
      "| train_loss: 5.69e-01 | test_loss: 6.28e-01 | reg: 3.86e+01 | : 100%|█| 1/1 [00:00<00:00,  1.28it/s\n"
     ]
    },
    {
     "name": "stdout",
     "output_type": "stream",
     "text": [
      "saving model version 0.10\n"
     ]
    },
    {
     "name": "stderr",
     "output_type": "stream",
     "text": [
      "| train_loss: 5.59e-01 | test_loss: 6.24e-01 | reg: 3.92e+01 | : 100%|█| 1/1 [00:00<00:00,  1.14it/s\n"
     ]
    },
    {
     "name": "stdout",
     "output_type": "stream",
     "text": [
      "saving model version 0.11\n"
     ]
    },
    {
     "name": "stderr",
     "output_type": "stream",
     "text": [
      "| train_loss: 5.51e-01 | test_loss: 6.16e-01 | reg: 3.95e+01 | : 100%|█| 1/1 [00:00<00:00,  1.20it/s\n"
     ]
    },
    {
     "name": "stdout",
     "output_type": "stream",
     "text": [
      "saving model version 0.12\n"
     ]
    },
    {
     "name": "stderr",
     "output_type": "stream",
     "text": [
      "| train_loss: 5.37e-01 | test_loss: 6.17e-01 | reg: 4.05e+01 | : 100%|█| 1/1 [00:00<00:00,  1.10it/s\n"
     ]
    },
    {
     "name": "stdout",
     "output_type": "stream",
     "text": [
      "saving model version 0.13\n",
      "[0.9899999499320984, 1.0, 0.9899999499320984, 1.0, 1.0, 1.0, 1.0, 1.0, 1.0, 1.0]\n",
      "[0.9199999570846558, 0.9199999570846558, 0.8799999952316284, 0.9399999976158142, 0.9199999570846558, 0.9599999785423279, 0.9399999976158142, 0.9399999976158142, 0.9399999976158142, 0.9199999570846558]\n",
      "tensor(0.9200, device='cuda:0')\n",
      "saving model version 0.14\n",
      "fixing (0,0,0) with x, r2=0.9485780000686646, c=1\n",
      "fixing (0,0,1) with 0, r2=0.0, c=0\n",
      "fixing (0,0,2) with 0, r2=0.0, c=0\n",
      "fixing (0,0,3) with 0, r2=0.0, c=0\n",
      "fixing (0,1,0) with x, r2=0.9840781688690186, c=1\n",
      "fixing (0,1,1) with x, r2=0.9888922572135925, c=1\n",
      "fixing (0,1,2) with 0, r2=0.0, c=0\n",
      "fixing (0,1,3) with 0, r2=0.0, c=0\n",
      "fixing (0,2,0) with x, r2=0.9930745959281921, c=1\n",
      "fixing (0,2,1) with cos, r2=0.998180091381073, c=2\n",
      "fixing (0,2,2) with x, r2=0.9967183470726013, c=1\n",
      "fixing (0,2,3) with 0, r2=0.0, c=0\n",
      "fixing (0,3,0) with 0, r2=0.0, c=0\n",
      "fixing (0,3,1) with x, r2=0.9760646224021912, c=1\n",
      "fixing (0,3,2) with 0, r2=0.0, c=0\n",
      "fixing (0,3,3) with 0, r2=0.0, c=0\n",
      "fixing (1,0,0) with 0, r2=0.0, c=0\n",
      "fixing (1,0,1) with 0, r2=0.0, c=0\n",
      "fixing (1,1,0) with x, r2=0.9519277215003967, c=1\n",
      "fixing (1,1,1) with x, r2=0.971731960773468, c=1\n",
      "fixing (1,2,0) with 0, r2=0.0, c=0\n",
      "fixing (1,2,1) with 0, r2=0.0, c=0\n",
      "fixing (1,3,0) with 0, r2=0.0, c=0\n",
      "fixing (1,3,1) with 0, r2=0.0, c=0\n",
      "fixing (2,0,0) with 0, r2=0.0, c=0\n",
      "fixing (2,0,1) with 0, r2=0.0, c=0\n",
      "fixing (2,0,2) with x, r2=0.9455412030220032, c=1\n",
      "fixing (2,1,0) with 0, r2=0.0, c=0\n",
      "fixing (2,1,1) with 0, r2=0.0, c=0\n",
      "fixing (2,1,2) with 0, r2=0.0, c=0\n",
      "saving model version 0.14\n",
      "[-0.149180002510548, 0.0708684942219406, -0.822962084071602*x_2 + 1.21491198404035*x_4 + 0.0878475765634656*cos(7.73504018783569*x_3 - 4.46767950057983) + 0.256425976686877]\n"
     ]
    },
    {
     "data": {
      "image/png": "[encoded data removed]",
      "text/plain": [
       "<Figure size 500x600 with 40 Axes>"
      ]
     },
     "metadata": {},
     "output_type": "display_data"
    }
   ],
   "source": [
    "#model = KAN(width=[4,4,2,2,3], grid=3, k=0, device=device)\n",
    "#results = model.fit(dataset, opt=\"LBFGS\", steps=3, metrics=(train_acc, test_acc), loss_fn=torch.nn.CrossEntropyLoss())\n",
    "\n",
    "\n",
    "\n",
    "model, results, best_test_acc = trainKAN(dataset, steps=3, KAN_width=[in_dim,4,2,out_dim], KAN_grid=3, KAN_degree=2, KAN_lambda=0.001)\n",
    "\n",
    "model, results, best_test_acc = trainKAN(dataset, steps=30, KAN_width=[in_dim,4,2,out_dim], KAN_grid=3, KAN_degree=2, KAN_lambda=0.001, last_best_acc=best_test_acc, model=model)\n",
    "\n",
    "print(model.\n",
    "\n",
    "model.prune()\n",
    "model.auto_symbolic()\n",
    "model.plot(folder='./figures_post')\n",
    "\n",
    "formulas, params = model.symbolic_formula()\n",
    "print(formulas)"
   ]
  }
 ],
 "metadata": {
  "kernelspec": {
   "display_name": "Python 3 (ipykernel)",
   "language": "python",
   "name": "python3"
  },
  "language_info": {
   "codemirror_mode": {
    "name": "ipython",
    "version": 3
   },
   "file_extension": ".py",
   "mimetype": "text/x-python",
   "name": "python",
   "nbconvert_exporter": "python",
   "pygments_lexer": "ipython3",
   "version": "3.12.7"
  }
 },
 "nbformat": 4,
 "nbformat_minor": 5
}
