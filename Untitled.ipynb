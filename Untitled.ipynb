{
 "cells": [
  {
   "cell_type": "code",
   "execution_count": 12,
   "id": "e23a5603-b56e-475c-8d5d-9ddb41aacff2",
   "metadata": {},
   "outputs": [],
   "source": [
    "import sklearn\n",
    "from kan import *\n",
    "import matplotlib.pyplot as plt\n",
    "import numpy as np\n",
    "from collections import Counter\n",
    "from sklearn.datasets import load_breast_cancer, load_wine, load_iris\n",
    "\n",
    "PATIENCE_VALUE = 3\n",
    "TOLERANCE_AMOUNT = 0\n",
    "\n",
    "device = torch.device('cuda' if torch.cuda.is_available() else 'cpu')\n",
    "dtype = torch.get_default_dtype()\n",
    "result_type = torch.long\n",
    "\n",
    "def processDataset(data): #sklearn.datasets data\n",
    "    y = data.target\n",
    "    X = data.data\n",
    "    X = sklearn.preprocessing.normalize(X)\n",
    "    X_train, X_test, y_train, y_test = sklearn.model_selection.train_test_split(X, y, test_size=0.25) #random_state=7\n",
    "    X_train, X_val, y_train, y_val = sklearn.model_selection.train_test_split(X_train, y_train, test_size=0.33)\n",
    "    dataset = {}\n",
    "    dataset['train_input'] = torch.from_numpy(np.array(X_train)).type(dtype).to(device)\n",
    "    dataset['test_input'] = torch.from_numpy(np.array(X_val)).type(dtype).to(device)\n",
    "    dataset['train_label'] = torch.from_numpy(np.array(y_train)).type(result_type).to(device)\n",
    "    dataset['test_label'] = torch.from_numpy(np.array(y_val)).type(result_type).to(device)\n",
    "    test = {}\n",
    "    test['test_input'] = torch.from_numpy(np.array(X_test)).type(dtype).to(device)\n",
    "    test['test_label'] = torch.from_numpy(np.array(y_test)).type(result_type).to(device)\n",
    "    return dataset, test\n",
    "\n",
    "def trainKAN(dataset, steps, KAN_width, KAN_grid, KAN_degree, KAN_lambda, last_best_acc=0, model=None):\n",
    "    def train_acc():\n",
    "        return torch.mean((torch.argmax(model(dataset['train_input']), dim=1) == dataset['train_label']).type(dtype))\n",
    "\n",
    "    def test_acc():\n",
    "        return torch.mean((torch.argmax(model(dataset['test_input']), dim=1) == dataset['test_label']).type(dtype))\n",
    "\n",
    "    if model is None:\n",
    "        model = KAN(width=KAN_width, grid=KAN_grid, k=KAN_degree, device=device, sparse_init=False)\n",
    "\n",
    "    final_results = {}\n",
    "    final_results['train_acc'] = []\n",
    "    final_results['test_acc'] = []\n",
    "    best_test_acc = last_best_acc\n",
    "    patience = PATIENCE_VALUE\n",
    "    for i in range(steps):\n",
    "        fit_results = model.fit(dataset, opt='LBFGS', steps=1, lamb=KAN_lambda, metrics=(train_acc, test_acc), loss_fn=torch.nn.CrossEntropyLoss())\n",
    "        final_results['train_acc'].append(fit_results['train_acc'][0])\n",
    "        final_results['test_acc'].append(fit_results['test_acc'][0])\n",
    "        if fit_results['test_acc'][0] < best_test_acc + TOLERANCE_AMOUNT:\n",
    "            if patience == 0:\n",
    "                return model, final_results, best_test_acc\n",
    "            else:\n",
    "                patience -= 1\n",
    "        else:\n",
    "            patience = PATIENCE_VALUE\n",
    "            best_test_acc = fit_results['test_acc'][0]\n",
    "            print(\"best_test_acc: \", best_test_acc)\n",
    "\n",
    "    return model, final_results, best_test_acc\n",
    "\n",
    "data = load_iris()\n",
    "dataset, test = processDataset(data)\n"
   ]
  },
  {
   "cell_type": "code",
   "execution_count": 15,
   "id": "685093c2-1ffa-4ea7-be88-29649e466057",
   "metadata": {},
   "outputs": [
    {
     "name": "stdout",
     "output_type": "stream",
     "text": [
      "checkpoint directory created: ./model\n",
      "saving model version 0.0\n"
     ]
    },
    {
     "name": "stderr",
     "output_type": "stream",
     "text": [
      "| train_loss: 1.41e-01 | test_loss: 1.20e-01 | reg: 8.32e+01 | : 100%|█| 1/1 [00:00<00:00,  1.54it/s\n"
     ]
    },
    {
     "name": "stdout",
     "output_type": "stream",
     "text": [
      "saving model version 0.1\n",
      "best_test_acc:  1.0\n"
     ]
    },
    {
     "name": "stderr",
     "output_type": "stream",
     "text": [
      "| train_loss: 7.12e-02 | test_loss: 1.33e-01 | reg: 8.28e+01 | : 100%|█| 1/1 [00:00<00:00,  1.59it/s\n"
     ]
    },
    {
     "name": "stdout",
     "output_type": "stream",
     "text": [
      "saving model version 0.2\n",
      "best_test_acc:  1.0\n"
     ]
    },
    {
     "name": "stderr",
     "output_type": "stream",
     "text": [
      "| train_loss: 9.22e-02 | test_loss: 1.71e-01 | reg: 8.23e+01 | : 100%|█| 1/1 [00:00<00:00,  1.61it/s\n"
     ]
    },
    {
     "name": "stdout",
     "output_type": "stream",
     "text": [
      "saving model version 0.3\n",
      "best_test_acc:  1.0\n"
     ]
    },
    {
     "name": "stderr",
     "output_type": "stream",
     "text": [
      "| train_loss: 7.96e-02 | test_loss: 2.32e-01 | reg: 8.87e+01 | : 100%|█| 1/1 [00:00<00:00,  1.75it/s\n"
     ]
    },
    {
     "name": "stdout",
     "output_type": "stream",
     "text": [
      "saving model version 0.4\n"
     ]
    },
    {
     "name": "stderr",
     "output_type": "stream",
     "text": [
      "| train_loss: 6.58e-02 | test_loss: 2.89e-01 | reg: 9.36e+01 | : 100%|█| 1/1 [00:00<00:00,  1.57it/s\n"
     ]
    },
    {
     "name": "stdout",
     "output_type": "stream",
     "text": [
      "saving model version 0.5\n"
     ]
    },
    {
     "name": "stderr",
     "output_type": "stream",
     "text": [
      "| train_loss: 5.51e-02 | test_loss: 1.63e-01 | reg: 9.83e+01 | : 100%|█| 1/1 [00:00<00:00,  1.55it/s\n"
     ]
    },
    {
     "name": "stdout",
     "output_type": "stream",
     "text": [
      "saving model version 0.6\n",
      "best_test_acc:  1.0\n"
     ]
    },
    {
     "name": "stderr",
     "output_type": "stream",
     "text": [
      "| train_loss: 4.41e-02 | test_loss: 3.31e-01 | reg: 9.92e+01 | : 100%|█| 1/1 [00:00<00:00,  1.50it/s\n"
     ]
    },
    {
     "name": "stdout",
     "output_type": "stream",
     "text": [
      "saving model version 0.7\n"
     ]
    },
    {
     "name": "stderr",
     "output_type": "stream",
     "text": [
      "| train_loss: 2.35e-02 | test_loss: 7.98e-01 | reg: 1.16e+02 | : 100%|█| 1/1 [00:00<00:00,  1.58it/s\n"
     ]
    },
    {
     "name": "stdout",
     "output_type": "stream",
     "text": [
      "saving model version 0.8\n"
     ]
    },
    {
     "name": "stderr",
     "output_type": "stream",
     "text": [
      "| train_loss: 1.71e-02 | test_loss: 9.43e-01 | reg: 1.18e+02 | : 100%|█| 1/1 [00:00<00:00,  1.68it/s\n"
     ]
    },
    {
     "name": "stdout",
     "output_type": "stream",
     "text": [
      "saving model version 0.9\n"
     ]
    },
    {
     "name": "stderr",
     "output_type": "stream",
     "text": [
      "| train_loss: 1.70e-02 | test_loss: 1.34e+00 | reg: 1.18e+02 | : 100%|█| 1/1 [00:00<00:00,  1.54it/s"
     ]
    },
    {
     "name": "stdout",
     "output_type": "stream",
     "text": [
      "saving model version 0.10\n"
     ]
    },
    {
     "name": "stderr",
     "output_type": "stream",
     "text": [
      "\n"
     ]
    }
   ],
   "source": [
    "in_dim = len(data.feature_names)\n",
    "out_dim = len(data.target_names)\n",
    "\n",
    "model, results, best_test_acc = trainKAN(dataset, steps=30, KAN_width=[in_dim,3,out_dim], KAN_grid=5, KAN_degree=3, KAN_lambda=0.000000001)\n",
    "\n",
    "#model, results, best_test_acc = trainKAN(dataset, steps=30, KAN_width=[in_dim,4,2,out_dim], KAN_grid=3, KAN_degree=2, KAN_lambda=0.001, last_best_acc=best_test_acc, model=model)\n",
    "\n",
    "\n",
    "\n",
    "#formulas, params = model.symbolic_formula()\n",
    "#print(formulas)\n",
    "    "
   ]
  },
  {
   "cell_type": "code",
   "execution_count": 36,
   "id": "1591cfe0-4fdd-4ddc-8941-f4e5cf6af49f",
   "metadata": {},
   "outputs": [
    {
     "name": "stdout",
     "output_type": "stream",
     "text": [
      "Parameter containing:\n",
      "tensor([[ 0.5493,  0.5842,  0.6190,  0.6539,  0.7091,  0.7298,  0.7690,  0.7999,\n",
      "          0.8281,  0.8630,  0.8978,  0.9327],\n",
      "        [ 0.0575,  0.1250,  0.1925,  0.2600,  0.3232,  0.3436,  0.3718,  0.5360,\n",
      "          0.5973,  0.6648,  0.7323,  0.7998],\n",
      "        [-0.0694,  0.0189,  0.1072,  0.1955,  0.2447,  0.5221,  0.5610,  0.5912,\n",
      "          0.6370,  0.7253,  0.8136,  0.9019],\n",
      "        [-0.1300, -0.0814, -0.0327,  0.0160,  0.0370,  0.1572,  0.1762,  0.2131,\n",
      "          0.2595,  0.3082,  0.3569,  0.4055]], device='cuda:0')\n",
      "Parameter containing:\n",
      "tensor([[-0.5359, -0.4520, -0.3681, -0.2843, -0.1369, -0.0712,  0.0163,  0.0977,\n",
      "          0.1350,  0.2189,  0.3027,  0.3866],\n",
      "        [-1.1595, -0.8213, -0.4831, -0.1448,  0.0154,  0.1657,  0.4093,  1.1061,\n",
      "          1.5463,  1.8845,  2.2227,  2.5610],\n",
      "        [-0.7543, -0.5197, -0.2851, -0.0505,  0.0231,  0.2368,  0.4203,  1.0376,\n",
      "          1.1226,  1.3572,  1.5918,  1.8264]], device='cuda:0')\n"
     ]
    },
    {
     "ename": "IndexError",
     "evalue": "index 2 is out of range",
     "output_type": "error",
     "traceback": [
      "\u001b[1;31m---------------------------------------------------------------------------\u001b[0m",
      "\u001b[1;31mIndexError\u001b[0m                                Traceback (most recent call last)",
      "Cell \u001b[1;32mIn[36], line 6\u001b[0m\n\u001b[0;32m      4\u001b[0m \u001b[38;5;28mprint\u001b[39m((model\u001b[38;5;241m.\u001b[39mact_fun[\u001b[38;5;241m0\u001b[39m]\u001b[38;5;241m.\u001b[39mgrid))\n\u001b[0;32m      5\u001b[0m \u001b[38;5;28mprint\u001b[39m((model\u001b[38;5;241m.\u001b[39mact_fun[\u001b[38;5;241m1\u001b[39m]\u001b[38;5;241m.\u001b[39mgrid))\n\u001b[1;32m----> 6\u001b[0m \u001b[38;5;28mprint\u001b[39m((\u001b[43mmodel\u001b[49m\u001b[38;5;241;43m.\u001b[39;49m\u001b[43mact_fun\u001b[49m\u001b[43m[\u001b[49m\u001b[38;5;241;43m2\u001b[39;49m\u001b[43m]\u001b[49m\u001b[38;5;241m.\u001b[39mgrid))\n",
      "File \u001b[1;32m~\\AppData\\Local\\Programs\\Python\\Python312\\Lib\\site-packages\\torch\\nn\\modules\\container.py:334\u001b[0m, in \u001b[0;36mModuleList.__getitem__\u001b[1;34m(self, idx)\u001b[0m\n\u001b[0;32m    332\u001b[0m     \u001b[38;5;28;01mreturn\u001b[39;00m \u001b[38;5;28mself\u001b[39m\u001b[38;5;241m.\u001b[39m\u001b[38;5;18m__class__\u001b[39m(\u001b[38;5;28mlist\u001b[39m(\u001b[38;5;28mself\u001b[39m\u001b[38;5;241m.\u001b[39m_modules\u001b[38;5;241m.\u001b[39mvalues())[idx])\n\u001b[0;32m    333\u001b[0m \u001b[38;5;28;01melse\u001b[39;00m:\n\u001b[1;32m--> 334\u001b[0m     \u001b[38;5;28;01mreturn\u001b[39;00m \u001b[38;5;28mself\u001b[39m\u001b[38;5;241m.\u001b[39m_modules[\u001b[38;5;28;43mself\u001b[39;49m\u001b[38;5;241;43m.\u001b[39;49m\u001b[43m_get_abs_string_index\u001b[49m\u001b[43m(\u001b[49m\u001b[43midx\u001b[49m\u001b[43m)\u001b[49m]\n",
      "File \u001b[1;32m~\\AppData\\Local\\Programs\\Python\\Python312\\Lib\\site-packages\\torch\\nn\\modules\\container.py:316\u001b[0m, in \u001b[0;36mModuleList._get_abs_string_index\u001b[1;34m(self, idx)\u001b[0m\n\u001b[0;32m    314\u001b[0m idx \u001b[38;5;241m=\u001b[39m operator\u001b[38;5;241m.\u001b[39mindex(idx)\n\u001b[0;32m    315\u001b[0m \u001b[38;5;28;01mif\u001b[39;00m \u001b[38;5;129;01mnot\u001b[39;00m (\u001b[38;5;241m-\u001b[39m\u001b[38;5;28mlen\u001b[39m(\u001b[38;5;28mself\u001b[39m) \u001b[38;5;241m<\u001b[39m\u001b[38;5;241m=\u001b[39m idx \u001b[38;5;241m<\u001b[39m \u001b[38;5;28mlen\u001b[39m(\u001b[38;5;28mself\u001b[39m)):\n\u001b[1;32m--> 316\u001b[0m     \u001b[38;5;28;01mraise\u001b[39;00m \u001b[38;5;167;01mIndexError\u001b[39;00m(\u001b[38;5;124mf\u001b[39m\u001b[38;5;124m\"\u001b[39m\u001b[38;5;124mindex \u001b[39m\u001b[38;5;132;01m{\u001b[39;00midx\u001b[38;5;132;01m}\u001b[39;00m\u001b[38;5;124m is out of range\u001b[39m\u001b[38;5;124m\"\u001b[39m)\n\u001b[0;32m    317\u001b[0m \u001b[38;5;28;01mif\u001b[39;00m idx \u001b[38;5;241m<\u001b[39m \u001b[38;5;241m0\u001b[39m:\n\u001b[0;32m    318\u001b[0m     idx \u001b[38;5;241m+\u001b[39m\u001b[38;5;241m=\u001b[39m \u001b[38;5;28mlen\u001b[39m(\u001b[38;5;28mself\u001b[39m)\n",
      "\u001b[1;31mIndexError\u001b[0m: index 2 is out of range"
     ]
    }
   ],
   "source": [
    "#model.plot(folder='./figures_post')\n",
    "\n",
    "\n",
    "print((model.act_fun[0].grid))\n",
    "print((model.act_fun[1].grid))\n",
    "print((model.act_fun[2].grid))"
   ]
  },
  {
   "cell_type": "code",
   "execution_count": 10,
   "id": "7e62074d-0e90-4a5e-81f1-1e8a4087f136",
   "metadata": {},
   "outputs": [
    {
     "name": "stdout",
     "output_type": "stream",
     "text": [
      "saving model version 0.31\n",
      "fixing (0,0,0) with 0, r2=0.0, c=0\n",
      "fixing (0,0,1) with 0, r2=0.0, c=0\n",
      "fixing (0,0,2) with 0, r2=0.0, c=0\n",
      "fixing (0,1,0) with cos, r2=0.9978286623954773, c=2\n",
      "fixing (0,1,1) with cos, r2=0.9987172484397888, c=2\n",
      "fixing (0,1,2) with 0, r2=0.0, c=0\n",
      "fixing (0,2,0) with cos, r2=0.9996832013130188, c=2\n",
      "fixing (0,2,1) with 0, r2=0.0, c=0\n",
      "fixing (0,2,2) with 0, r2=0.0, c=0\n",
      "fixing (0,3,0) with 0, r2=0.0, c=0\n",
      "fixing (0,3,1) with 0, r2=0.0, c=0\n",
      "fixing (0,3,2) with x, r2=0.9896095991134644, c=1\n",
      "fixing (1,0,0) with x, r2=0.9801028370857239, c=1\n",
      "fixing (1,0,1) with cos, r2=0.9999671578407288, c=2\n",
      "fixing (1,0,2) with x, r2=0.9684668183326721, c=1\n",
      "fixing (1,1,0) with 0, r2=0.0, c=0\n",
      "fixing (1,1,1) with 0, r2=0.0, c=0\n",
      "fixing (1,1,2) with 0, r2=0.0, c=0\n",
      "fixing (1,2,0) with 0, r2=0.0, c=0\n",
      "fixing (1,2,1) with 0, r2=0.0, c=0\n",
      "fixing (1,2,2) with 0, r2=0.0, c=0\n",
      "saving model version 0.31\n"
     ]
    },
    {
     "data": {
      "image/png": "[encoded data removed]",
      "text/plain": [
       "<Figure size 500x400 with 28 Axes>"
      ]
     },
     "metadata": {},
     "output_type": "display_data"
    }
   ],
   "source": [
    "model.prune()\n",
    "model.auto_symbolic()\n",
    "model.plot(folder='./figures_post') #matplotlib save"
   ]
  },
  {
   "cell_type": "code",
   "execution_count": 12,
   "id": "d0a207c2-54a1-424f-9c44-444f2f69422e",
   "metadata": {},
   "outputs": [
    {
     "name": "stdout",
     "output_type": "stream",
     "text": [
      "-0.4079*(0.5509*cos(10.0*x_2 - 6.2) - 0.3866*cos(7.7947*x_3 + 1.8123) - 1)**2 + 5.1245*cos(0.1437*cos(10.0*x_2 - 6.2) - 0.4875*cos(8.5437*x_3 + 1.6198) + 5.4238) - 4.5756\n",
      "0.2055*(0.5234*cos(10.0*x_2 - 6.2) - 0.3674*cos(7.7947*x_3 + 1.8123) - 1)**2 + 6.2384*sin(-0.1463*cos(10.0*x_2 - 6.2) + 0.4965*cos(8.5437*x_3 + 1.6198) + 5.585) + 5.7748\n",
      "0.2597*(0.5699*cos(10.0*x_2 - 6.2) - 0.3999*cos(7.7947*x_3 + 1.8123) - 1)**2 + 0.0181*cos(10.0*x_2 - 6.2) - 0.0614*cos(8.5437*x_3 + 1.6198) + 0.8724\n",
      "([-0.407927343862334*(0.550913262056204*cos(10.0*x_2 - 6.19999980926514) - 0.386647871726185*cos(7.79472017288208*x_3 + 1.81231987476349) - 1)**2 + 5.12454891204834*cos(0.143650098829395*cos(10.0*x_2 - 6.19999980926514) - 0.487467177798706*cos(8.54367923736572*x_3 + 1.61983978748322) + 5.42380235808389) - 4.57557912170887, 0.205489010359671*(0.523443017141687*cos(10.0*x_2 - 6.19999980926514) - 0.367368408944053*cos(7.79472017288208*x_3 + 1.81231987476349) - 1)**2 + 6.23841238021851*sin(-0.146300983462961*cos(10.0*x_2 - 6.19999980926514) + 0.496462780736152*cos(8.54367923736572*x_3 + 1.61983978748322) + 5.58497902347299) + 5.77476121485233, 0.25970677206319*(0.569858073635836*cos(10.0*x_2 - 6.19999980926514) - 0.399943923177513*cos(7.79472017288208*x_3 + 1.81231987476349) - 1)**2 + 0.0180808364841717*cos(10.0*x_2 - 6.19999980926514) - 0.0613561313566982*cos(8.54367923736572*x_3 + 1.61983978748322) + 0.872400386309257], [x_1, x_2, x_3, x_4])\n"
     ]
    }
   ],
   "source": [
    "formula1, formula2, formula3 = model.symbolic_formula()[0]\n",
    "print(ex_round(formula1, 4))\n",
    "print(ex_round(formula2, 4))\n",
    "print(ex_round(formula3, 4))\n",
    "print(model.symbolic_formula())"
   ]
  },
  {
   "cell_type": "code",
   "execution_count": 13,
   "id": "20868055-0c88-46e2-b81f-7ae93ae45147",
   "metadata": {},
   "outputs": [
    {
     "name": "stdout",
     "output_type": "stream",
     "text": [
      "tensor(0.3200, device='cuda:0')\n",
      "tensor([False, False, False, False, False, False, False,  True,  True, False,\n",
      "        False, False, False,  True, False, False, False, False, False, False,\n",
      "         True,  True, False, False, False, False,  True,  True, False, False,\n",
      "        False,  True,  True, False,  True, False, False,  True,  True,  True,\n",
      "        False,  True, False, False, False, False,  True, False,  True, False],\n",
      "       device='cuda:0')\n",
      "tensor([1, 1, 1, 1, 1, 1, 2, 1, 1, 2, 2, 1, 2, 1, 1, 2, 1, 1, 1, 2, 1, 1, 1, 2,\n",
      "        1, 2, 1, 1, 1, 1, 2, 1, 1, 2, 1, 1, 2, 1, 1, 1, 2, 1, 1, 1, 1, 1, 1, 2,\n",
      "        1, 2], device='cuda:0')\n",
      "tensor([2, 2, 2, 2, 2, 2, 0, 1, 1, 0, 0, 2, 0, 1, 2, 0, 2, 2, 2, 0, 1, 1, 2, 0,\n",
      "        2, 0, 1, 1, 2, 2, 0, 1, 1, 0, 1, 2, 0, 1, 1, 1, 0, 1, 2, 2, 2, 2, 1, 0,\n",
      "        1, 0], device='cuda:0')\n"
     ]
    }
   ],
   "source": [
    "print(torch.mean((torch.argmax(model(dataset['test_input']), dim=1) == dataset['test_label']).type(dtype)))\n",
    "print((torch.argmax(model(dataset['test_input']), dim=1) == dataset['test_label']))\n",
    "print((torch.argmax(model(dataset['test_input']), dim=1)))\n",
    "print((dataset['test_label']))\n",
    "best_test_acc = torch.mean((torch.argmax(model(dataset['test_input']), dim=1) == dataset['test_label']).type(dtype))"
   ]
  },
  {
   "cell_type": "code",
   "execution_count": 14,
   "id": "78842732-b1c3-4728-9fbb-c6963f2c4701",
   "metadata": {},
   "outputs": [
    {
     "name": "stderr",
     "output_type": "stream",
     "text": [
      "| train_loss: 6.78e-01 | test_loss: 7.11e-01 | reg: 0.00e+00 | : 100%|█| 1/1 [00:02<00:00,  2.02s/it\n"
     ]
    },
    {
     "name": "stdout",
     "output_type": "stream",
     "text": [
      "saving model version 0.10\n",
      "best_test_acc:  0.7999999523162842\n"
     ]
    },
    {
     "name": "stderr",
     "output_type": "stream",
     "text": [
      "| train_loss: 5.55e-01 | test_loss: 6.13e-01 | reg: 0.00e+00 | : 100%|█| 1/1 [00:01<00:00,  1.85s/it\n"
     ]
    },
    {
     "name": "stdout",
     "output_type": "stream",
     "text": [
      "saving model version 0.11\n",
      "best_test_acc:  0.8999999761581421\n"
     ]
    },
    {
     "name": "stderr",
     "output_type": "stream",
     "text": [
      "| train_loss: 4.18e-01 | test_loss: 5.37e-01 | reg: 0.00e+00 | : 100%|█| 1/1 [00:02<00:00,  2.03s/it\n"
     ]
    },
    {
     "name": "stdout",
     "output_type": "stream",
     "text": [
      "saving model version 0.12\n",
      "best_test_acc:  0.8999999761581421\n"
     ]
    },
    {
     "name": "stderr",
     "output_type": "stream",
     "text": [
      "| train_loss: 3.77e-01 | test_loss: 5.27e-01 | reg: 0.00e+00 | : 100%|█| 1/1 [00:01<00:00,  1.89s/it\n"
     ]
    },
    {
     "name": "stdout",
     "output_type": "stream",
     "text": [
      "saving model version 0.13\n"
     ]
    },
    {
     "name": "stderr",
     "output_type": "stream",
     "text": [
      "| train_loss: 3.29e-01 | test_loss: 5.28e-01 | reg: 0.00e+00 | : 100%|█| 1/1 [00:01<00:00,  1.92s/it\n"
     ]
    },
    {
     "name": "stdout",
     "output_type": "stream",
     "text": [
      "saving model version 0.14\n",
      "best_test_acc:  0.8999999761581421\n"
     ]
    },
    {
     "name": "stderr",
     "output_type": "stream",
     "text": [
      "| train_loss: 3.13e-01 | test_loss: 5.87e-01 | reg: 0.00e+00 | : 100%|█| 1/1 [00:01<00:00,  1.93s/it\n"
     ]
    },
    {
     "name": "stdout",
     "output_type": "stream",
     "text": [
      "saving model version 0.15\n"
     ]
    },
    {
     "name": "stderr",
     "output_type": "stream",
     "text": [
      "| train_loss: 3.03e-01 | test_loss: 5.72e-01 | reg: 0.00e+00 | : 100%|█| 1/1 [00:01<00:00,  1.90s/it\n"
     ]
    },
    {
     "name": "stdout",
     "output_type": "stream",
     "text": [
      "saving model version 0.16\n"
     ]
    },
    {
     "name": "stderr",
     "output_type": "stream",
     "text": [
      "| train_loss: 3.02e-01 | test_loss: 5.72e-01 | reg: 0.00e+00 | : 100%|█| 1/1 [00:02<00:00,  2.04s/it\n"
     ]
    },
    {
     "name": "stdout",
     "output_type": "stream",
     "text": [
      "saving model version 0.17\n",
      "best_test_acc:  0.8999999761581421\n"
     ]
    },
    {
     "name": "stderr",
     "output_type": "stream",
     "text": [
      "| train_loss: 3.02e-01 | test_loss: 5.73e-01 | reg: 0.00e+00 | : 100%|█| 1/1 [00:00<00:00,  1.65it/s\n"
     ]
    },
    {
     "name": "stdout",
     "output_type": "stream",
     "text": [
      "saving model version 0.18\n",
      "best_test_acc:  0.8999999761581421\n"
     ]
    },
    {
     "name": "stderr",
     "output_type": "stream",
     "text": [
      "| train_loss: 3.02e-01 | test_loss: 5.85e-01 | reg: 0.00e+00 | : 100%|█| 1/1 [00:01<00:00,  1.34s/it\n"
     ]
    },
    {
     "name": "stdout",
     "output_type": "stream",
     "text": [
      "saving model version 0.19\n",
      "best_test_acc:  0.8999999761581421\n"
     ]
    },
    {
     "name": "stderr",
     "output_type": "stream",
     "text": [
      "| train_loss: 3.02e-01 | test_loss: 5.85e-01 | reg: 0.00e+00 | : 100%|█| 1/1 [00:01<00:00,  1.49s/it\n"
     ]
    },
    {
     "name": "stdout",
     "output_type": "stream",
     "text": [
      "saving model version 0.20\n",
      "best_test_acc:  0.8999999761581421\n"
     ]
    },
    {
     "name": "stderr",
     "output_type": "stream",
     "text": [
      "| train_loss: 3.02e-01 | test_loss: 5.85e-01 | reg: 0.00e+00 | : 100%|█| 1/1 [00:00<00:00,  1.58it/s\n"
     ]
    },
    {
     "name": "stdout",
     "output_type": "stream",
     "text": [
      "saving model version 0.21\n",
      "best_test_acc:  0.8999999761581421\n"
     ]
    },
    {
     "name": "stderr",
     "output_type": "stream",
     "text": [
      "| train_loss: 3.02e-01 | test_loss: 5.85e-01 | reg: 0.00e+00 | : 100%|█| 1/1 [00:00<00:00,  1.57it/s\n"
     ]
    },
    {
     "name": "stdout",
     "output_type": "stream",
     "text": [
      "saving model version 0.22\n",
      "best_test_acc:  0.8999999761581421\n"
     ]
    },
    {
     "name": "stderr",
     "output_type": "stream",
     "text": [
      "| train_loss: 3.02e-01 | test_loss: 5.85e-01 | reg: 0.00e+00 | : 100%|█| 1/1 [00:00<00:00,  1.53it/s\n"
     ]
    },
    {
     "name": "stdout",
     "output_type": "stream",
     "text": [
      "saving model version 0.23\n",
      "best_test_acc:  0.8999999761581421\n"
     ]
    },
    {
     "name": "stderr",
     "output_type": "stream",
     "text": [
      "| train_loss: 3.02e-01 | test_loss: 5.85e-01 | reg: 0.00e+00 | : 100%|█| 1/1 [00:00<00:00,  1.56it/s\n"
     ]
    },
    {
     "name": "stdout",
     "output_type": "stream",
     "text": [
      "saving model version 0.24\n",
      "best_test_acc:  0.8999999761581421\n"
     ]
    },
    {
     "name": "stderr",
     "output_type": "stream",
     "text": [
      "| train_loss: 3.02e-01 | test_loss: 5.85e-01 | reg: 0.00e+00 | : 100%|█| 1/1 [00:00<00:00,  1.68it/s\n"
     ]
    },
    {
     "name": "stdout",
     "output_type": "stream",
     "text": [
      "saving model version 0.25\n",
      "best_test_acc:  0.8999999761581421\n"
     ]
    },
    {
     "name": "stderr",
     "output_type": "stream",
     "text": [
      "| train_loss: 3.02e-01 | test_loss: 5.85e-01 | reg: 0.00e+00 | : 100%|█| 1/1 [00:00<00:00,  1.53it/s\n"
     ]
    },
    {
     "name": "stdout",
     "output_type": "stream",
     "text": [
      "saving model version 0.26\n",
      "best_test_acc:  0.8999999761581421\n"
     ]
    },
    {
     "name": "stderr",
     "output_type": "stream",
     "text": [
      "| train_loss: 3.02e-01 | test_loss: 5.85e-01 | reg: 0.00e+00 | : 100%|█| 1/1 [00:00<00:00,  1.71it/s\n"
     ]
    },
    {
     "name": "stdout",
     "output_type": "stream",
     "text": [
      "saving model version 0.27\n",
      "best_test_acc:  0.8999999761581421\n"
     ]
    },
    {
     "name": "stderr",
     "output_type": "stream",
     "text": [
      "| train_loss: 3.02e-01 | test_loss: 5.85e-01 | reg: 0.00e+00 | : 100%|█| 1/1 [00:00<00:00,  1.54it/s\n"
     ]
    },
    {
     "name": "stdout",
     "output_type": "stream",
     "text": [
      "saving model version 0.28\n",
      "best_test_acc:  0.8999999761581421\n"
     ]
    },
    {
     "name": "stderr",
     "output_type": "stream",
     "text": [
      "| train_loss: 3.02e-01 | test_loss: 5.85e-01 | reg: 0.00e+00 | : 100%|█| 1/1 [00:00<00:00,  1.63it/s\n"
     ]
    },
    {
     "name": "stdout",
     "output_type": "stream",
     "text": [
      "saving model version 0.29\n",
      "best_test_acc:  0.8999999761581421\n"
     ]
    },
    {
     "name": "stderr",
     "output_type": "stream",
     "text": [
      "| train_loss: 3.02e-01 | test_loss: 5.85e-01 | reg: 0.00e+00 | : 100%|█| 1/1 [00:00<00:00,  1.62it/s\n"
     ]
    },
    {
     "name": "stdout",
     "output_type": "stream",
     "text": [
      "saving model version 0.30\n",
      "best_test_acc:  0.8999999761581421\n"
     ]
    },
    {
     "name": "stderr",
     "output_type": "stream",
     "text": [
      "| train_loss: 3.02e-01 | test_loss: 5.85e-01 | reg: 0.00e+00 | : 100%|█| 1/1 [00:00<00:00,  1.67it/s\n"
     ]
    },
    {
     "name": "stdout",
     "output_type": "stream",
     "text": [
      "saving model version 0.31\n",
      "best_test_acc:  0.8999999761581421\n"
     ]
    },
    {
     "name": "stderr",
     "output_type": "stream",
     "text": [
      "| train_loss: 3.02e-01 | test_loss: 5.85e-01 | reg: 0.00e+00 | : 100%|█| 1/1 [00:00<00:00,  1.59it/s\n"
     ]
    },
    {
     "name": "stdout",
     "output_type": "stream",
     "text": [
      "saving model version 0.32\n",
      "best_test_acc:  0.8999999761581421\n"
     ]
    },
    {
     "name": "stderr",
     "output_type": "stream",
     "text": [
      "| train_loss: 3.02e-01 | test_loss: 5.85e-01 | reg: 0.00e+00 | : 100%|█| 1/1 [00:00<00:00,  1.54it/s\n"
     ]
    },
    {
     "name": "stdout",
     "output_type": "stream",
     "text": [
      "saving model version 0.33\n",
      "best_test_acc:  0.8999999761581421\n"
     ]
    },
    {
     "name": "stderr",
     "output_type": "stream",
     "text": [
      "| train_loss: 3.02e-01 | test_loss: 5.85e-01 | reg: 0.00e+00 | : 100%|█| 1/1 [00:00<00:00,  1.69it/s\n"
     ]
    },
    {
     "name": "stdout",
     "output_type": "stream",
     "text": [
      "saving model version 0.34\n",
      "best_test_acc:  0.8999999761581421\n"
     ]
    },
    {
     "name": "stderr",
     "output_type": "stream",
     "text": [
      "| train_loss: 3.02e-01 | test_loss: 5.85e-01 | reg: 0.00e+00 | : 100%|█| 1/1 [00:00<00:00,  1.64it/s\n"
     ]
    },
    {
     "name": "stdout",
     "output_type": "stream",
     "text": [
      "saving model version 0.35\n",
      "best_test_acc:  0.8999999761581421\n"
     ]
    },
    {
     "name": "stderr",
     "output_type": "stream",
     "text": [
      "| train_loss: 3.02e-01 | test_loss: 5.85e-01 | reg: 0.00e+00 | : 100%|█| 1/1 [00:00<00:00,  1.60it/s\n"
     ]
    },
    {
     "name": "stdout",
     "output_type": "stream",
     "text": [
      "saving model version 0.36\n",
      "best_test_acc:  0.8999999761581421\n"
     ]
    },
    {
     "name": "stderr",
     "output_type": "stream",
     "text": [
      "| train_loss: 3.02e-01 | test_loss: 5.85e-01 | reg: 0.00e+00 | : 100%|█| 1/1 [00:00<00:00,  1.62it/s\n"
     ]
    },
    {
     "name": "stdout",
     "output_type": "stream",
     "text": [
      "saving model version 0.37\n",
      "best_test_acc:  0.8999999761581421\n"
     ]
    },
    {
     "name": "stderr",
     "output_type": "stream",
     "text": [
      "| train_loss: 3.02e-01 | test_loss: 5.85e-01 | reg: 0.00e+00 | : 100%|█| 1/1 [00:00<00:00,  1.83it/s\n"
     ]
    },
    {
     "name": "stdout",
     "output_type": "stream",
     "text": [
      "saving model version 0.38\n",
      "best_test_acc:  0.8999999761581421\n"
     ]
    },
    {
     "name": "stderr",
     "output_type": "stream",
     "text": [
      "| train_loss: 3.02e-01 | test_loss: 5.85e-01 | reg: 0.00e+00 | : 100%|█| 1/1 [00:00<00:00,  1.81it/s"
     ]
    },
    {
     "name": "stdout",
     "output_type": "stream",
     "text": [
      "saving model version 0.39\n",
      "best_test_acc:  0.8999999761581421\n"
     ]
    },
    {
     "name": "stderr",
     "output_type": "stream",
     "text": [
      "\n"
     ]
    }
   ],
   "source": [
    "model, results, best_test_acc = trainKAN(dataset, steps=30, KAN_width=[in_dim,4,2,out_dim], KAN_grid=3, KAN_degree=2, KAN_lambda=0.001, last_best_acc=best_test_acc, model=model)\n"
   ]
  },
  {
   "cell_type": "code",
   "execution_count": 15,
   "id": "9b7ccf86-c785-4ce5-a2ce-af440cd9583b",
   "metadata": {},
   "outputs": [
    {
     "name": "stdout",
     "output_type": "stream",
     "text": [
      "tensor(0.9000, device='cuda:0')\n",
      "tensor([ True, False,  True,  True,  True,  True,  True,  True,  True,  True,\n",
      "         True,  True,  True,  True,  True,  True,  True,  True,  True,  True,\n",
      "         True,  True,  True,  True,  True,  True,  True,  True, False,  True,\n",
      "         True,  True,  True,  True,  True, False,  True, False,  True,  True,\n",
      "         True,  True, False,  True,  True,  True,  True,  True,  True,  True],\n",
      "       device='cuda:0')\n",
      "tensor([2, 1, 2, 2, 2, 2, 0, 1, 1, 0, 0, 2, 0, 1, 2, 0, 2, 2, 2, 0, 1, 1, 2, 0,\n",
      "        2, 0, 1, 1, 1, 2, 0, 1, 1, 0, 1, 1, 0, 2, 1, 1, 0, 1, 1, 2, 2, 2, 1, 0,\n",
      "        1, 0], device='cuda:0')\n"
     ]
    }
   ],
   "source": [
    "print(torch.mean((torch.argmax(model(dataset['test_input']), dim=1) == dataset['test_label']).type(dtype)))\n",
    "print((torch.argmax(model(dataset['test_input']), dim=1) == dataset['test_label']))\n",
    "print((torch.argmax(model(dataset['test_input']), dim=1)))"
   ]
  },
  {
   "cell_type": "code",
   "execution_count": 37,
   "id": "c9fd9eeb-edf3-48da-9741-4b6b8223c45d",
   "metadata": {},
   "outputs": [
    {
     "name": "stdout",
     "output_type": "stream",
     "text": [
      "0.9729729890823364\n"
     ]
    }
   ],
   "source": [
    "print(torch.mean((torch.argmax(model(dataset['test_input']), dim=1) == dataset['test_label']).type(dtype)).item())\n",
    "    "
   ]
  }
 ],
 "metadata": {
  "kernelspec": {
   "display_name": "Python 3 (ipykernel)",
   "language": "python",
   "name": "python3"
  },
  "language_info": {
   "codemirror_mode": {
    "name": "ipython",
    "version": 3
   },
   "file_extension": ".py",
   "mimetype": "text/x-python",
   "name": "python",
   "nbconvert_exporter": "python",
   "pygments_lexer": "ipython3",
   "version": "3.12.7"
  }
 },
 "nbformat": 4,
 "nbformat_minor": 5
}
