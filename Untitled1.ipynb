{
 "cells": [
  {
   "cell_type": "code",
   "execution_count": 25,
   "id": "a629043c-ac08-4ca5-99fc-eda9329ffa65",
   "metadata": {},
   "outputs": [],
   "source": [
    "from sklearn import *\n",
    "import torch\n",
    "import matplotlib.pyplot as plt\n",
    "import numpy as np\n",
    "from collections import Counter\n",
    "from sklearn.datasets import load_breast_cancer, load_wine, load_iris\n",
    "\n",
    "device = torch.device('cpu')\n",
    "dtype = torch.get_default_dtype()\n",
    "result_type = torch.long\n",
    "\n",
    "def processDataset(data): #sklearn.datasets data\n",
    "    y = data.target\n",
    "    X = data.data\n",
    "    X = sklearn.preprocessing.normalize(X)\n",
    "    X_train, X_test, y_train, y_test = sklearn.model_selection.train_test_split(X, y, test_size=0.33) #random_state=7\n",
    "    dataset = {}\n",
    "    dataset['train_input'] = torch.from_numpy(np.array(X_train)).type(dtype).to(device)\n",
    "    dataset['test_input'] = torch.from_numpy(np.array(X_test)).type(dtype).to(device)\n",
    "    dataset['train_label'] = torch.from_numpy(np.array(y_train)).type(result_type).to(device)\n",
    "    dataset['test_label'] = torch.from_numpy(np.array(y_test)).type(result_type).to(device)\n",
    "    return dataset\n",
    "\n",
    "def trainMLP(my_max_iter, my_layer_sizes, my_activation, X_train, y_train):\n",
    "        model = sklearn.neural_network.MLPClassifier(max_iter=my_max_iter, hidden_layer_sizes=my_layer_sizes, activation=my_activation, n_iter_no_change=3, tol=0.0001, solver=\"lbfgs\")\n",
    "        model = model.fit(X_train, y_train)\n",
    "        return model\n",
    "\n",
    "data = load_iris()\n",
    "dataset = processDataset(data)\n",
    "\n"
   ]
  },
  {
   "cell_type": "code",
   "execution_count": 26,
   "id": "32006db0-aaea-49ff-be28-0da2a5675b20",
   "metadata": {},
   "outputs": [
    {
     "name": "stderr",
     "output_type": "stream",
     "text": [
      "C:\\Users\\E D\\AppData\\Local\\Programs\\Python\\Python312\\Lib\\site-packages\\sklearn\\neural_network\\_multilayer_perceptron.py:545: ConvergenceWarning: lbfgs failed to converge (status=1):\n",
      "STOP: TOTAL NO. of ITERATIONS REACHED LIMIT.\n",
      "\n",
      "Increase the number of iterations (max_iter) or scale the data as shown in:\n",
      "    https://scikit-learn.org/stable/modules/preprocessing.html\n",
      "  self.n_iter_ = _check_optimize_result(\"lbfgs\", opt_res, self.max_iter)\n"
     ]
    }
   ],
   "source": [
    "model = trainMLP(30, 100, 'relu', dataset['train_input'], dataset['train_label'])"
   ]
  },
  {
   "cell_type": "code",
   "execution_count": 27,
   "id": "2d49e87e-ebb0-406c-bcfa-0fee17ac4399",
   "metadata": {},
   "outputs": [
    {
     "name": "stdout",
     "output_type": "stream",
     "text": [
      "0.92\n"
     ]
    }
   ],
   "source": [
    "def test_accuracy(X_test, y_test, model):\n",
    "    correct = 0\n",
    "    for k in range(len(X_test)):\n",
    "        val = model.predict(X_test[k].reshape(1, -1))\n",
    "        correct_option = y_test[k]\n",
    "\n",
    "        if val == correct_option:\n",
    "            correct = correct + 1\n",
    "\n",
    "    return correct/len(X_test)\n",
    "\n",
    "print(test_accuracy(dataset['test_input'], dataset['test_label'], model))"
   ]
  }
 ],
 "metadata": {
  "kernelspec": {
   "display_name": "Python 3 (ipykernel)",
   "language": "python",
   "name": "python3"
  },
  "language_info": {
   "codemirror_mode": {
    "name": "ipython",
    "version": 3
   },
   "file_extension": ".py",
   "mimetype": "text/x-python",
   "name": "python",
   "nbconvert_exporter": "python",
   "pygments_lexer": "ipython3",
   "version": "3.12.7"
  }
 },
 "nbformat": 4,
 "nbformat_minor": 5
}
