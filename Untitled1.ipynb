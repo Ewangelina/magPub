{
 "cells": [
  {
   "cell_type": "code",
   "execution_count": 2,
   "id": "a629043c-ac08-4ca5-99fc-eda9329ffa65",
   "metadata": {},
   "outputs": [
    {
     "ename": "AttributeError",
     "evalue": "module 'sklearn' has no attribute 'model_selection'",
     "output_type": "error",
     "traceback": [
      "\u001b[1;31m---------------------------------------------------------------------------\u001b[0m",
      "\u001b[1;31mAttributeError\u001b[0m                            Traceback (most recent call last)",
      "Cell \u001b[1;32mIn[2], line 25\u001b[0m\n\u001b[0;32m     22\u001b[0m         \u001b[38;5;28;01mreturn\u001b[39;00m model\n\u001b[0;32m     24\u001b[0m data \u001b[38;5;241m=\u001b[39m load_iris()\n\u001b[1;32m---> 25\u001b[0m dataset \u001b[38;5;241m=\u001b[39m \u001b[43mprocessDataset\u001b[49m\u001b[43m(\u001b[49m\u001b[43mdata\u001b[49m\u001b[43m)\u001b[49m\n\u001b[0;32m     26\u001b[0m model \u001b[38;5;241m=\u001b[39m trainMLP(\u001b[38;5;241m10\u001b[39m, \u001b[38;5;124m'\u001b[39m\u001b[38;5;124midentity\u001b[39m\u001b[38;5;124m'\u001b[39m, dataset[\u001b[38;5;124m'\u001b[39m\u001b[38;5;124mtrain_input\u001b[39m\u001b[38;5;124m'\u001b[39m], dataset[\u001b[38;5;124m'\u001b[39m\u001b[38;5;124mtrain_label\u001b[39m\u001b[38;5;124m'\u001b[39m])\n",
      "Cell \u001b[1;32mIn[2], line 11\u001b[0m, in \u001b[0;36mprocessDataset\u001b[1;34m(data)\u001b[0m\n\u001b[0;32m      9\u001b[0m X \u001b[38;5;241m=\u001b[39m data\u001b[38;5;241m.\u001b[39mdata\n\u001b[0;32m     10\u001b[0m X \u001b[38;5;241m=\u001b[39m sklearn\u001b[38;5;241m.\u001b[39mpreprocessing\u001b[38;5;241m.\u001b[39mnormalize(X)\n\u001b[1;32m---> 11\u001b[0m X_train, X_test, y_train, y_test \u001b[38;5;241m=\u001b[39m \u001b[43msklearn\u001b[49m\u001b[38;5;241;43m.\u001b[39;49m\u001b[43mmodel_selection\u001b[49m\u001b[38;5;241m.\u001b[39mtrain_test_split(X, y, test_size\u001b[38;5;241m=\u001b[39m\u001b[38;5;241m0.33\u001b[39m) \u001b[38;5;66;03m#random_state=7\u001b[39;00m\n\u001b[0;32m     12\u001b[0m dataset \u001b[38;5;241m=\u001b[39m {}\n\u001b[0;32m     13\u001b[0m dataset[\u001b[38;5;124m'\u001b[39m\u001b[38;5;124mtrain_input\u001b[39m\u001b[38;5;124m'\u001b[39m] \u001b[38;5;241m=\u001b[39m torch\u001b[38;5;241m.\u001b[39mfrom_numpy(np\u001b[38;5;241m.\u001b[39marray(X_train))\u001b[38;5;241m.\u001b[39mtype(dtype)\u001b[38;5;241m.\u001b[39mto(device)\n",
      "\u001b[1;31mAttributeError\u001b[0m: module 'sklearn' has no attribute 'model_selection'"
     ]
    }
   ],
   "source": [
    "import sklearn\n",
    "import matplotlib.pyplot as plt\n",
    "import numpy as np\n",
    "from collections import Counter\n",
    "from sklearn.datasets import load_breast_cancer, load_wine, load_iris\n",
    "\n",
    "def processDataset(data): #sklearn.datasets data\n",
    "    y = data.target\n",
    "    X = data.data\n",
    "    X = sklearn.preprocessing.normalize(X)\n",
    "    X_train, X_test, y_train, y_test = sklearn.model_selection.train_test_split(X, y, test_size=0.33) #random_state=7\n",
    "    dataset = {}\n",
    "    dataset['train_input'] = torch.from_numpy(np.array(X_train)).type(dtype).to(device)\n",
    "    dataset['test_input'] = torch.from_numpy(np.array(X_test)).type(dtype).to(device)\n",
    "    dataset['train_label'] = torch.from_numpy(np.array(y_train)).type(result_type).to(device)\n",
    "    dataset['test_label'] = torch.from_numpy(np.array(y_test)).type(result_type).to(device)\n",
    "    return dataset\n",
    "\n",
    "def trainMLP(my_layer_sizes, my_activation, X_train, y_train):\n",
    "        model = sklearn.neural_network.MLPClassifier(hidden_layer_sizes=my_layer_sizes, activation=my_activation, max_iter=100000, tol=0, n_iter_no_change=100000, solver=\"sgd\")\n",
    "        model = model.fit(X_train, y_train)\n",
    "        return model\n",
    "\n",
    "data = load_iris()\n",
    "dataset = processDataset(data)\n",
    "model = trainMLP(10, 'identity', dataset['train_input'], dataset['train_label'])"
   ]
  }
 ],
 "metadata": {
  "kernelspec": {
   "display_name": "Python 3 (ipykernel)",
   "language": "python",
   "name": "python3"
  },
  "language_info": {
   "codemirror_mode": {
    "name": "ipython",
    "version": 3
   },
   "file_extension": ".py",
   "mimetype": "text/x-python",
   "name": "python",
   "nbconvert_exporter": "python",
   "pygments_lexer": "ipython3",
   "version": "3.12.7"
  }
 },
 "nbformat": 4,
 "nbformat_minor": 5
}
